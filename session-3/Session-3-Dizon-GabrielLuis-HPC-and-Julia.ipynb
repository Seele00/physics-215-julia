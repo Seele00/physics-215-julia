{
 "cells": [
  {
   "cell_type": "code",
   "execution_count": 1,
   "id": "c9df4e46",
   "metadata": {},
   "outputs": [
    {
     "name": "stderr",
     "output_type": "stream",
     "text": [
      "\u001b[32m\u001b[1m  Activating\u001b[22m\u001b[39m environment at `~/Documents/schoolwork-codes/physics-215-julia/session-3/Project.toml`\n"
     ]
    }
   ],
   "source": [
    "using Pkg\n",
    "Pkg.activate(\".\")\n",
    "using BenchmarkTools\n",
    "using LinearAlgebra"
   ]
  },
  {
   "cell_type": "markdown",
   "id": "8e65e4ef",
   "metadata": {},
   "source": [
    "# Session 3: Types, type inferencing, and type stability"
   ]
  },
  {
   "cell_type": "markdown",
   "id": "52027206",
   "metadata": {},
   "source": [
    "## KR1: Demonstrating type hierarchies"
   ]
  },
  {
   "cell_type": "markdown",
   "id": "1380c102",
   "metadata": {},
   "source": [
    "In this section, we will explore the different subtypes of the abstract datatype `Number`. Starting from `Number`, we can see its subtypes through the function `subtypes()`."
   ]
  },
  {
   "cell_type": "code",
   "execution_count": 2,
   "id": "9c12a5c9",
   "metadata": {},
   "outputs": [
    {
     "data": {
      "text/plain": [
       "2-element Vector{Any}:\n",
       " Complex\n",
       " Real"
      ]
     },
     "execution_count": 2,
     "metadata": {},
     "output_type": "execute_result"
    }
   ],
   "source": [
    "subtypes(Number)"
   ]
  },
  {
   "cell_type": "markdown",
   "id": "8390230f",
   "metadata": {},
   "source": [
    "`Number` is divided into two abstract subtypes: `Complex` for complex number types and `Real` for real number types. We can further check the subtypes in `Real` to identify the specific real number types."
   ]
  },
  {
   "cell_type": "code",
   "execution_count": 3,
   "id": "bf34736a",
   "metadata": {},
   "outputs": [
    {
     "data": {
      "text/plain": [
       "4-element Vector{Any}:\n",
       " AbstractFloat\n",
       " AbstractIrrational\n",
       " Integer\n",
       " Rational"
      ]
     },
     "execution_count": 3,
     "metadata": {},
     "output_type": "execute_result"
    }
   ],
   "source": [
    "subtypes(Real)"
   ]
  },
  {
   "cell_type": "code",
   "execution_count": 4,
   "id": "83369cbb",
   "metadata": {},
   "outputs": [
    {
     "data": {
      "text/plain": [
       "3-element Vector{Any}:\n",
       " Bool\n",
       " Signed\n",
       " Unsigned"
      ]
     },
     "execution_count": 4,
     "metadata": {},
     "output_type": "execute_result"
    }
   ],
   "source": [
    "subtypes(Integer)"
   ]
  },
  {
   "cell_type": "code",
   "execution_count": 5,
   "id": "23970804",
   "metadata": {},
   "outputs": [
    {
     "data": {
      "text/plain": [
       "6-element Vector{Any}:\n",
       " BigInt\n",
       " Int128\n",
       " Int16\n",
       " Int32\n",
       " Int64\n",
       " Int8"
      ]
     },
     "execution_count": 5,
     "metadata": {},
     "output_type": "execute_result"
    }
   ],
   "source": [
    "subtypes(Signed)"
   ]
  },
  {
   "cell_type": "code",
   "execution_count": 6,
   "id": "9a569809",
   "metadata": {},
   "outputs": [
    {
     "data": {
      "text/plain": [
       "Type[]"
      ]
     },
     "execution_count": 6,
     "metadata": {},
     "output_type": "execute_result"
    }
   ],
   "source": [
    "subtypes(BigInt)"
   ]
  },
  {
   "cell_type": "markdown",
   "id": "2a770e15",
   "metadata": {},
   "source": [
    "Thus if we trace the type hierarchy of `BigInt`, we can see that `BigInt` belongs to `Signed` integer types, which then belongs to the larger `Integer` abstract type, which then belongs to the `Real` number type."
   ]
  },
  {
   "cell_type": "markdown",
   "id": "aefd42c4",
   "metadata": {},
   "source": [
    "Note as well that the `Complex` number type has no subtypes under it. (`Complex` is of the type `UnionAll`, which is similar to the user-defined `struct`.)"
   ]
  },
  {
   "cell_type": "code",
   "execution_count": 7,
   "id": "5bf93301",
   "metadata": {},
   "outputs": [
    {
     "data": {
      "text/plain": [
       "Type[]"
      ]
     },
     "execution_count": 7,
     "metadata": {},
     "output_type": "execute_result"
    }
   ],
   "source": [
    "subtypes(Complex)"
   ]
  },
  {
   "cell_type": "markdown",
   "id": "1aabaa57",
   "metadata": {},
   "source": [
    "Using the function `supertype()`, we can trace back the `Complex` type to the `Number` abstract type."
   ]
  },
  {
   "cell_type": "code",
   "execution_count": 8,
   "id": "fd223344",
   "metadata": {},
   "outputs": [
    {
     "data": {
      "text/plain": [
       "Number"
      ]
     },
     "execution_count": 8,
     "metadata": {},
     "output_type": "execute_result"
    }
   ],
   "source": [
    "supertype(Complex)"
   ]
  },
  {
   "cell_type": "markdown",
   "id": "896693dc",
   "metadata": {},
   "source": [
    "## KR2: `struct` construction"
   ]
  },
  {
   "cell_type": "markdown",
   "id": "d9891efb",
   "metadata": {},
   "source": [
    "For this section, we will use the `struct` construction of Julia to create composite types. `struct` instances usually are composed of at least two elements, each with its own fundamental type. Types assigned to each element can either be arbitrary or restricted, depending on how they are defined."
   ]
  },
  {
   "cell_type": "markdown",
   "id": "ebb25ece",
   "metadata": {},
   "source": [
    "Here, we construct a struct called `Planet`. This struct takes the following parameters: a string `planet_name` for the name of the planet, a number (which we will fix as a `Real` for our purposes) `planet_mass` for the mass of the planet, and a 2-D vector `planet_position` set relative to some solar position as the origin. The new type `Planet` is defined below."
   ]
  },
  {
   "cell_type": "code",
   "execution_count": 9,
   "id": "217af6c1",
   "metadata": {},
   "outputs": [],
   "source": [
    "struct Planet\n",
    "    planet_name::String\n",
    "    planet_mass::Real #in kg\n",
    "    planet_position::Vector #in AU\n",
    "end"
   ]
  },
  {
   "cell_type": "markdown",
   "id": "57e69b9f",
   "metadata": {},
   "source": [
    "From here, we can instantiate multiple `Planet` objects."
   ]
  },
  {
   "cell_type": "code",
   "execution_count": 10,
   "id": "e55a7b03",
   "metadata": {},
   "outputs": [
    {
     "name": "stdout",
     "output_type": "stream",
     "text": [
      "The third planet from the Sun is Earth.\n",
      "Mars has a mass of 6.39e23 kg.\n",
      "Mercury has an average distance of 0.4 AU from the Sun.\n"
     ]
    }
   ],
   "source": [
    "earth = Planet(\"Earth\", 5.9722e24, [0.0, 1.0]);\n",
    "mars = Planet(\"Mars\", 6.39e23, [0.0, 1.5]);\n",
    "mercury = Planet(\"Mercury\", 3.285e23, [0.0, 0.4]);\n",
    "\n",
    "println(\"The third planet from the Sun is $(earth.planet_name).\")\n",
    "println(\"$(mars.planet_name) has a mass of $(mars.planet_mass) kg.\")\n",
    "println(\"$(mercury.planet_name) has an average distance of $(mercury.planet_position[2]) AU from the Sun.\")"
   ]
  },
  {
   "cell_type": "markdown",
   "id": "14a9c88d",
   "metadata": {},
   "source": [
    "As demonstrated above, we can easily call elements from each `Planet` type object. We cannot, however, change the values of the elements, save for the vector `planet_position`."
   ]
  },
  {
   "cell_type": "code",
   "execution_count": 11,
   "id": "d1278d25",
   "metadata": {},
   "outputs": [
    {
     "ename": "LoadError",
     "evalue": "setfield! immutable struct of type Planet cannot be changed",
     "output_type": "error",
     "traceback": [
      "setfield! immutable struct of type Planet cannot be changed",
      "",
      "Stacktrace:",
      " [1] setproperty!(x::Planet, f::Symbol, v::String)",
      "   @ Base ./Base.jl:34",
      " [2] top-level scope",
      "   @ In[11]:1",
      " [3] eval",
      "   @ ./boot.jl:360 [inlined]",
      " [4] include_string(mapexpr::typeof(REPL.softscope), mod::Module, code::String, filename::String)",
      "   @ Base ./loading.jl:1116"
     ]
    }
   ],
   "source": [
    "earth.planet_name = \"Venus\""
   ]
  },
  {
   "cell_type": "code",
   "execution_count": 12,
   "id": "268682e7",
   "metadata": {},
   "outputs": [
    {
     "data": {
      "text/plain": [
       "2-element Vector{Float64}:\n",
       " 1.0\n",
       " 0.0"
      ]
     },
     "execution_count": 12,
     "metadata": {},
     "output_type": "execute_result"
    }
   ],
   "source": [
    "earth.planet_position[:] = [1.0, 0.0]"
   ]
  },
  {
   "cell_type": "code",
   "execution_count": 13,
   "id": "7e016095",
   "metadata": {},
   "outputs": [
    {
     "data": {
      "text/plain": [
       "Planet(\"Earth\", 5.9722e24, [1.0, 0.0])"
      ]
     },
     "execution_count": 13,
     "metadata": {},
     "output_type": "execute_result"
    }
   ],
   "source": [
    "earth"
   ]
  },
  {
   "cell_type": "markdown",
   "id": "d06ee3d0",
   "metadata": {},
   "source": [
    "Note as well that `planet_position` is fixed as a 2-D vector, and its dimensions cannot be changed for this type of struct."
   ]
  },
  {
   "cell_type": "markdown",
   "id": "8295ff16",
   "metadata": {},
   "source": [
    "If we want a more flexible Type to use, we can opt to make a mutable struct. Let us define struct `CelestialObj` with the following elements."
   ]
  },
  {
   "cell_type": "code",
   "execution_count": 14,
   "id": "5960ad9e",
   "metadata": {},
   "outputs": [],
   "source": [
    "mutable struct CelestialObj\n",
    "    obj_name::String\n",
    "    obj_mass::Real\n",
    "    obj_pos::Vector\n",
    "end"
   ]
  },
  {
   "cell_type": "markdown",
   "id": "da0b6041",
   "metadata": {},
   "source": [
    "Let us now define the object `mars_mutable` using this new struct."
   ]
  },
  {
   "cell_type": "code",
   "execution_count": 15,
   "id": "b4eb6dfe",
   "metadata": {},
   "outputs": [
    {
     "data": {
      "text/plain": [
       "CelestialObj(\"Mars\", 6.39e23, [0.0, 1.5])"
      ]
     },
     "execution_count": 15,
     "metadata": {},
     "output_type": "execute_result"
    }
   ],
   "source": [
    "mars_mutable = CelestialObj(\"Mars\", 6.39e23, [0.0, 1.5])"
   ]
  },
  {
   "cell_type": "markdown",
   "id": "8749a90d",
   "metadata": {},
   "source": [
    "Because `CelestialObj` is mutable, we can change the values of the elements freely (as long as it doesn't move out of their abstract supertype)."
   ]
  },
  {
   "cell_type": "code",
   "execution_count": 16,
   "id": "53e26b8e",
   "metadata": {},
   "outputs": [
    {
     "data": {
      "text/plain": [
       "CelestialObj(\"Mutated Mars\", π, [16, 10, 7])"
      ]
     },
     "execution_count": 16,
     "metadata": {},
     "output_type": "execute_result"
    }
   ],
   "source": [
    "mars_mutable.obj_name = \"Mutated Mars\";\n",
    "mars_mutable.obj_mass = π;\n",
    "mars_mutable.obj_pos = [16, 10, 7]; #taken from the current right ascension of Mars as of Dec 20, 2021 at 21:13 PhST\n",
    "\n",
    "mars_mutable"
   ]
  },
  {
   "cell_type": "markdown",
   "id": "aab35155",
   "metadata": {},
   "source": [
    "It can be clearly seen that while mutability of the struct gives us some flexibility in terms of inputs, it can easily lead to issues such as type instability if not constrained properly."
   ]
  },
  {
   "cell_type": "markdown",
   "id": "54a5a87c",
   "metadata": {},
   "source": [
    "We can also instead opt to parameterize some of the types in the struct to prevent overt type instability. A parameterized form of the non-mutable `Planet` struct would be"
   ]
  },
  {
   "cell_type": "code",
   "execution_count": 17,
   "id": "a2977758",
   "metadata": {},
   "outputs": [],
   "source": [
    "struct PPlanet{T}\n",
    "    planet_name::String\n",
    "    planet_mass::T\n",
    "    planet_pos::Vector{T}\n",
    "end"
   ]
  },
  {
   "cell_type": "code",
   "execution_count": 18,
   "id": "09a05c1a",
   "metadata": {},
   "outputs": [
    {
     "data": {
      "text/plain": [
       "PPlanet{Float64}(\"Mercury\", 3.285e23, [0.0, 0.4])"
      ]
     },
     "execution_count": 18,
     "metadata": {},
     "output_type": "execute_result"
    }
   ],
   "source": [
    "mercury_param = PPlanet{Float64}(\"Mercury\", 3.285e23, [0, 0.4])"
   ]
  },
  {
   "cell_type": "markdown",
   "id": "fa6c38fb",
   "metadata": {},
   "source": [
    "As we can see, specifying the type `T` through the parameterization fixes all elements taking the type `T` as `Float64`."
   ]
  },
  {
   "cell_type": "markdown",
   "id": "d2603d16",
   "metadata": {},
   "source": [
    "## KR3: Demonstrating type inference with generator expressions"
   ]
  },
  {
   "cell_type": "markdown",
   "id": "a07775ff",
   "metadata": {},
   "source": [
    "As demonstrated in the previous sessions, Julia has the natural feature of inferring the types of inputs it is given. Take for example the following generator expression"
   ]
  },
  {
   "cell_type": "code",
   "execution_count": 19,
   "id": "53f55582",
   "metadata": {},
   "outputs": [
    {
     "data": {
      "text/plain": [
       "5-element Vector{Int64}:\n",
       " 2\n",
       " 3\n",
       " 4\n",
       " 5\n",
       " 6"
      ]
     },
     "execution_count": 19,
     "metadata": {},
     "output_type": "execute_result"
    }
   ],
   "source": [
    "[(x+1) for x in 1:5]"
   ]
  },
  {
   "cell_type": "markdown",
   "id": "d2a8d55e",
   "metadata": {},
   "source": [
    "which takes the integers `1` to `5` and adds by the integer `1`. Compare it with a similar generator expression which takes _floats_ `1.0` to `5.0` and adds them to the _integer_ `1`."
   ]
  },
  {
   "cell_type": "code",
   "execution_count": 20,
   "id": "1e43a12a",
   "metadata": {},
   "outputs": [
    {
     "data": {
      "text/plain": [
       "5-element Vector{Float64}:\n",
       " 2.0\n",
       " 3.0\n",
       " 4.0\n",
       " 5.0\n",
       " 6.0"
      ]
     },
     "execution_count": 20,
     "metadata": {},
     "output_type": "execute_result"
    }
   ],
   "source": [
    "[(x+1) for x in 1.0:5.0]"
   ]
  },
  {
   "cell_type": "markdown",
   "id": "11f5e1d3",
   "metadata": {},
   "source": [
    "We see for this particular generator that Julia immediately recognizes the input being generated as floats, and does the type promotion accordingly to allow the operation to be valid."
   ]
  },
  {
   "cell_type": "markdown",
   "id": "5ae2ef3d",
   "metadata": {},
   "source": [
    "## KR4-5: Type instabilities "
   ]
  },
  {
   "cell_type": "markdown",
   "id": "83255b88",
   "metadata": {},
   "source": [
    "Let `realroot(x)` be a function which accepts real number inputs `x` and outputs their square root when `x` is greater than zero, and outputs zero otherwise. This can be coded as"
   ]
  },
  {
   "cell_type": "code",
   "execution_count": 21,
   "id": "e3170181",
   "metadata": {},
   "outputs": [
    {
     "data": {
      "text/plain": [
       "realroot (generic function with 1 method)"
      ]
     },
     "execution_count": 21,
     "metadata": {},
     "output_type": "execute_result"
    }
   ],
   "source": [
    "realroot(x::Real) = x > 0 ? sqrt(x) : 0"
   ]
  },
  {
   "cell_type": "markdown",
   "id": "0f45eea3",
   "metadata": {},
   "source": [
    "The following examples demonstrate that the function does indeed produce the square roots of its positive inputs, and outputs zero for non-positive inputs."
   ]
  },
  {
   "cell_type": "code",
   "execution_count": 22,
   "id": "1c6ef822",
   "metadata": {},
   "outputs": [
    {
     "data": {
      "text/plain": [
       "2.0"
      ]
     },
     "execution_count": 22,
     "metadata": {},
     "output_type": "execute_result"
    }
   ],
   "source": [
    "realroot(4)"
   ]
  },
  {
   "cell_type": "code",
   "execution_count": 23,
   "id": "c0e5fe64",
   "metadata": {},
   "outputs": [
    {
     "data": {
      "text/plain": [
       "2.0"
      ]
     },
     "execution_count": 23,
     "metadata": {},
     "output_type": "execute_result"
    }
   ],
   "source": [
    "realroot(4.0)"
   ]
  },
  {
   "cell_type": "code",
   "execution_count": 24,
   "id": "36a30ba1",
   "metadata": {},
   "outputs": [
    {
     "data": {
      "text/plain": [
       "0"
      ]
     },
     "execution_count": 24,
     "metadata": {},
     "output_type": "execute_result"
    }
   ],
   "source": [
    "realroot(-4.0)"
   ]
  },
  {
   "cell_type": "markdown",
   "id": "edbaaa48",
   "metadata": {},
   "source": [
    "We can see here however that there is already type instability inherent in this implementation: whereas `sqrt(x)` always outputs a `Float` regardless of whether `x` is inferred to be `Int` or `Float`, the other possible value `0` is strictly an `Int` regardless of the type of `x`. That is, both `Int` and `Float` inputs can result in either an `Int` or a `Float` output. The `@code_warntype` macro shows this problem clearly."
   ]
  },
  {
   "cell_type": "code",
   "execution_count": 25,
   "id": "7dd5bc2b",
   "metadata": {},
   "outputs": [
    {
     "name": "stdout",
     "output_type": "stream",
     "text": [
      "Variables\n",
      "  #self#\u001b[36m::Core.Const(realroot)\u001b[39m\n",
      "  x\u001b[36m::Int64\u001b[39m\n",
      "\n",
      "Body\u001b[91m\u001b[1m::Union{Float64, Int64}\u001b[22m\u001b[39m\n",
      "\u001b[90m1 ─\u001b[39m %1 = (x > 0)\u001b[36m::Bool\u001b[39m\n",
      "\u001b[90m└──\u001b[39m      goto #3 if not %1\n",
      "\u001b[90m2 ─\u001b[39m %3 = Main.sqrt(x)\u001b[36m::Float64\u001b[39m\n",
      "\u001b[90m└──\u001b[39m      return %3\n",
      "\u001b[90m3 ─\u001b[39m      return 0\n"
     ]
    }
   ],
   "source": [
    "@code_warntype realroot(4)"
   ]
  },
  {
   "cell_type": "code",
   "execution_count": 26,
   "id": "88965e0c",
   "metadata": {},
   "outputs": [
    {
     "name": "stdout",
     "output_type": "stream",
     "text": [
      "Variables\n",
      "  #self#\u001b[36m::Core.Const(realroot)\u001b[39m\n",
      "  x\u001b[36m::Float64\u001b[39m\n",
      "\n",
      "Body\u001b[91m\u001b[1m::Union{Float64, Int64}\u001b[22m\u001b[39m\n",
      "\u001b[90m1 ─\u001b[39m %1 = (x > 0)\u001b[36m::Bool\u001b[39m\n",
      "\u001b[90m└──\u001b[39m      goto #3 if not %1\n",
      "\u001b[90m2 ─\u001b[39m %3 = Main.sqrt(x)\u001b[36m::Float64\u001b[39m\n",
      "\u001b[90m└──\u001b[39m      return %3\n",
      "\u001b[90m3 ─\u001b[39m      return 0\n"
     ]
    }
   ],
   "source": [
    "@code_warntype realroot(-4.0)"
   ]
  },
  {
   "cell_type": "markdown",
   "id": "d8fed026",
   "metadata": {},
   "source": [
    "Since `sqrt(x)` always outputs `Float` values in the valid domain, we can fix the type instability by forcing `0` to be a `Float` as well (set it to `0.0`)."
   ]
  },
  {
   "cell_type": "code",
   "execution_count": 27,
   "id": "9e1a6027",
   "metadata": {},
   "outputs": [
    {
     "data": {
      "text/plain": [
       "realroot_fixed (generic function with 1 method)"
      ]
     },
     "execution_count": 27,
     "metadata": {},
     "output_type": "execute_result"
    }
   ],
   "source": [
    "realroot_fixed(x::Real) = x > 0 ? sqrt(x) : 0.0"
   ]
  },
  {
   "cell_type": "code",
   "execution_count": 28,
   "id": "fb1a1881",
   "metadata": {},
   "outputs": [
    {
     "name": "stdout",
     "output_type": "stream",
     "text": [
      "Variables\n",
      "  #self#\u001b[36m::Core.Const(realroot_fixed)\u001b[39m\n",
      "  x\u001b[36m::Int64\u001b[39m\n",
      "\n",
      "Body\u001b[36m::Float64\u001b[39m\n",
      "\u001b[90m1 ─\u001b[39m %1 = (x > 0)\u001b[36m::Bool\u001b[39m\n",
      "\u001b[90m└──\u001b[39m      goto #3 if not %1\n",
      "\u001b[90m2 ─\u001b[39m %3 = Main.sqrt(x)\u001b[36m::Float64\u001b[39m\n",
      "\u001b[90m└──\u001b[39m      return %3\n",
      "\u001b[90m3 ─\u001b[39m      return 0.0\n"
     ]
    }
   ],
   "source": [
    "@code_warntype realroot_fixed(4)"
   ]
  },
  {
   "cell_type": "code",
   "execution_count": 29,
   "id": "97f560c8",
   "metadata": {},
   "outputs": [
    {
     "name": "stdout",
     "output_type": "stream",
     "text": [
      "Variables\n",
      "  #self#\u001b[36m::Core.Const(realroot_fixed)\u001b[39m\n",
      "  x\u001b[36m::Float64\u001b[39m\n",
      "\n",
      "Body\u001b[36m::Float64\u001b[39m\n",
      "\u001b[90m1 ─\u001b[39m %1 = (x > 0)\u001b[36m::Bool\u001b[39m\n",
      "\u001b[90m└──\u001b[39m      goto #3 if not %1\n",
      "\u001b[90m2 ─\u001b[39m %3 = Main.sqrt(x)\u001b[36m::Float64\u001b[39m\n",
      "\u001b[90m└──\u001b[39m      return %3\n",
      "\u001b[90m3 ─\u001b[39m      return 0.0\n"
     ]
    }
   ],
   "source": [
    "@code_warntype realroot_fixed(-4.0)"
   ]
  },
  {
   "cell_type": "markdown",
   "id": "b0b78417",
   "metadata": {},
   "source": [
    "As we can see, the type ambiguity and instability disappears after fixing all output types to `Float`."
   ]
  },
  {
   "cell_type": "markdown",
   "id": "d296d38d",
   "metadata": {},
   "source": [
    "## KR6: Type ambiguity in `Array` operations"
   ]
  },
  {
   "cell_type": "markdown",
   "id": "e4cb72e1",
   "metadata": {},
   "source": [
    "In general, one of the keys to optimizing code in Julia is to keep variable types as consistent and specific as possible so that the compiler does not spend time performing type inferencing at each operation. We can show the difference in runtimes with the following example.\n"
   ]
  },
  {
   "cell_type": "markdown",
   "id": "620cf89d",
   "metadata": {},
   "source": [
    "Let `X` and `Y` be the following matrices:"
   ]
  },
  {
   "cell_type": "code",
   "execution_count": 30,
   "id": "4777ae8d",
   "metadata": {},
   "outputs": [],
   "source": [
    "X = Float64[1 2 3\n",
    "4 5 6\n",
    "7 8 9];\n",
    "Y = Real[1 2 3\n",
    "4 5 6\n",
    "7 8 9];"
   ]
  },
  {
   "cell_type": "markdown",
   "id": "ca14b764",
   "metadata": {},
   "source": [
    "where the elements of `X` are all fixed as `Float64` values while the elements of `Y` are arbitrarily typed as `Real`. We can verify that these matrices are still of the type `Array` by checking their type."
   ]
  },
  {
   "cell_type": "code",
   "execution_count": 31,
   "id": "db29995e",
   "metadata": {},
   "outputs": [
    {
     "data": {
      "text/plain": [
       "Matrix{Float64} (alias for Array{Float64, 2})"
      ]
     },
     "execution_count": 31,
     "metadata": {},
     "output_type": "execute_result"
    }
   ],
   "source": [
    "typeof(X)"
   ]
  },
  {
   "cell_type": "code",
   "execution_count": 32,
   "id": "d7f5bbfe",
   "metadata": {},
   "outputs": [
    {
     "data": {
      "text/plain": [
       "Matrix{Real} (alias for Array{Real, 2})"
      ]
     },
     "execution_count": 32,
     "metadata": {},
     "output_type": "execute_result"
    }
   ],
   "source": [
    "typeof(Y)"
   ]
  },
  {
   "cell_type": "markdown",
   "id": "d5a7dfec",
   "metadata": {},
   "source": [
    "We can take the determinant of both matrices"
   ]
  },
  {
   "cell_type": "code",
   "execution_count": 33,
   "id": "a9e65c05",
   "metadata": {},
   "outputs": [
    {
     "data": {
      "text/plain": [
       "0.0"
      ]
     },
     "execution_count": 33,
     "metadata": {},
     "output_type": "execute_result"
    }
   ],
   "source": [
    "det(X)"
   ]
  },
  {
   "cell_type": "code",
   "execution_count": 34,
   "id": "caafd301",
   "metadata": {},
   "outputs": [
    {
     "data": {
      "text/plain": [
       "6.661338147750939e-16"
      ]
     },
     "execution_count": 34,
     "metadata": {},
     "output_type": "execute_result"
    }
   ],
   "source": [
    "det(Y)"
   ]
  },
  {
   "cell_type": "code",
   "execution_count": 35,
   "id": "280cf144",
   "metadata": {},
   "outputs": [
    {
     "data": {
      "text/plain": [
       "Float64"
      ]
     },
     "execution_count": 35,
     "metadata": {},
     "output_type": "execute_result"
    }
   ],
   "source": [
    "typeof(det(X))"
   ]
  },
  {
   "cell_type": "code",
   "execution_count": 36,
   "id": "c60308d9",
   "metadata": {},
   "outputs": [
    {
     "data": {
      "text/plain": [
       "Float64"
      ]
     },
     "execution_count": 36,
     "metadata": {},
     "output_type": "execute_result"
    }
   ],
   "source": [
    "typeof(det(Y))"
   ]
  },
  {
   "cell_type": "markdown",
   "id": "8d51c713",
   "metadata": {},
   "source": [
    "and we see that the determinant of `X` is zero, while the determinant of `Y` is very small but nonzero. If done by hand, the determinant of the above matrix is exactly zero, which seems to suggest that the type ambiguity allowed by in `Y` has resulted in some rounding errors during the `det()` operation. No such errors are present for the purely `Float64` matrix."
   ]
  },
  {
   "cell_type": "markdown",
   "id": "f53f149b",
   "metadata": {},
   "source": [
    "We can also compare the benchmarked times for both `X` and `Y` inputs."
   ]
  },
  {
   "cell_type": "code",
   "execution_count": 37,
   "id": "28c8846f",
   "metadata": {},
   "outputs": [
    {
     "data": {
      "text/plain": [
       "BenchmarkTools.Trial: 10000 samples with 308 evaluations.\n",
       " Range \u001b[90m(\u001b[39m\u001b[36m\u001b[1mmin\u001b[22m\u001b[39m … \u001b[35mmax\u001b[39m\u001b[90m):  \u001b[39m\u001b[36m\u001b[1m266.211 ns\u001b[22m\u001b[39m … \u001b[35m  4.935 μs\u001b[39m  \u001b[90m┊\u001b[39m GC \u001b[90m(\u001b[39mmin … max\u001b[90m): \u001b[39m0.00% … 91.10%\n",
       " Time  \u001b[90m(\u001b[39m\u001b[34m\u001b[1mmedian\u001b[22m\u001b[39m\u001b[90m):     \u001b[39m\u001b[34m\u001b[1m319.005 ns               \u001b[22m\u001b[39m\u001b[90m┊\u001b[39m GC \u001b[90m(\u001b[39mmedian\u001b[90m):    \u001b[39m0.00%\n",
       " Time  \u001b[90m(\u001b[39m\u001b[32m\u001b[1mmean\u001b[22m\u001b[39m ± \u001b[32mσ\u001b[39m\u001b[90m):   \u001b[39m\u001b[32m\u001b[1m334.254 ns\u001b[22m\u001b[39m ± \u001b[32m161.406 ns\u001b[39m  \u001b[90m┊\u001b[39m GC \u001b[90m(\u001b[39mmean ± σ\u001b[90m):  \u001b[39m1.98% ±  3.88%\n",
       "\n",
       "  \u001b[39m \u001b[39m \u001b[39m \u001b[39m \u001b[39m \u001b[39m \u001b[39m \u001b[39m▃\u001b[39m▁\u001b[39m▄\u001b[39m█\u001b[39m▄\u001b[39m▅\u001b[34m█\u001b[39m\u001b[39m▃\u001b[39m▁\u001b[39m▄\u001b[32m▂\u001b[39m\u001b[39m▁\u001b[39m▁\u001b[39m▁\u001b[39m▁\u001b[39m▁\u001b[39m▁\u001b[39m▁\u001b[39m▁\u001b[39m \u001b[39m \u001b[39m \u001b[39m \u001b[39m \u001b[39m \u001b[39m \u001b[39m \u001b[39m▁\u001b[39m▁\u001b[39m▂\u001b[39m▁\u001b[39m \u001b[39m▁\u001b[39m▁\u001b[39m \u001b[39m \u001b[39m \u001b[39m \u001b[39m \u001b[39m \u001b[39m \u001b[39m \u001b[39m \u001b[39m \u001b[39m \u001b[39m \u001b[39m \u001b[39m \u001b[39m \u001b[39m \u001b[39m \u001b[39m \u001b[39m \u001b[39m \u001b[39m \u001b[39m▂\n",
       "  \u001b[39m▆\u001b[39m▁\u001b[39m▁\u001b[39m▁\u001b[39m▁\u001b[39m▄\u001b[39m▅\u001b[39m█\u001b[39m█\u001b[39m█\u001b[39m█\u001b[39m█\u001b[39m█\u001b[34m█\u001b[39m\u001b[39m█\u001b[39m█\u001b[39m█\u001b[32m█\u001b[39m\u001b[39m█\u001b[39m█\u001b[39m█\u001b[39m█\u001b[39m█\u001b[39m█\u001b[39m█\u001b[39m█\u001b[39m█\u001b[39m█\u001b[39m█\u001b[39m█\u001b[39m▇\u001b[39m█\u001b[39m█\u001b[39m█\u001b[39m█\u001b[39m█\u001b[39m█\u001b[39m█\u001b[39m█\u001b[39m█\u001b[39m█\u001b[39m█\u001b[39m▇\u001b[39m▇\u001b[39m▆\u001b[39m▇\u001b[39m▅\u001b[39m▅\u001b[39m▆\u001b[39m▆\u001b[39m▆\u001b[39m▆\u001b[39m▅\u001b[39m▇\u001b[39m▆\u001b[39m▆\u001b[39m▅\u001b[39m▅\u001b[39m▆\u001b[39m▅\u001b[39m▅\u001b[39m \u001b[39m█\n",
       "  266 ns\u001b[90m        \u001b[39m\u001b[90mHistogram: \u001b[39m\u001b[90m\u001b[1mlog(\u001b[22m\u001b[39m\u001b[90mfrequency\u001b[39m\u001b[90m\u001b[1m)\u001b[22m\u001b[39m\u001b[90m by time\u001b[39m        513 ns \u001b[0m\u001b[1m<\u001b[22m\n",
       "\n",
       " Memory estimate\u001b[90m: \u001b[39m\u001b[33m272 bytes\u001b[39m, allocs estimate\u001b[90m: \u001b[39m\u001b[33m2\u001b[39m."
      ]
     },
     "execution_count": 37,
     "metadata": {},
     "output_type": "execute_result"
    }
   ],
   "source": [
    "Xdetbench = @benchmark det($X)"
   ]
  },
  {
   "cell_type": "code",
   "execution_count": 38,
   "id": "b2877629",
   "metadata": {},
   "outputs": [
    {
     "data": {
      "text/plain": [
       "BenchmarkTools.Trial: 10000 samples with 9 evaluations.\n",
       " Range \u001b[90m(\u001b[39m\u001b[36m\u001b[1mmin\u001b[22m\u001b[39m … \u001b[35mmax\u001b[39m\u001b[90m):  \u001b[39m\u001b[36m\u001b[1m2.253 μs\u001b[22m\u001b[39m … \u001b[35m  6.103 μs\u001b[39m  \u001b[90m┊\u001b[39m GC \u001b[90m(\u001b[39mmin … max\u001b[90m): \u001b[39m0.00% … 0.00%\n",
       " Time  \u001b[90m(\u001b[39m\u001b[34m\u001b[1mmedian\u001b[22m\u001b[39m\u001b[90m):     \u001b[39m\u001b[34m\u001b[1m2.544 μs               \u001b[22m\u001b[39m\u001b[90m┊\u001b[39m GC \u001b[90m(\u001b[39mmedian\u001b[90m):    \u001b[39m0.00%\n",
       " Time  \u001b[90m(\u001b[39m\u001b[32m\u001b[1mmean\u001b[22m\u001b[39m ± \u001b[32mσ\u001b[39m\u001b[90m):   \u001b[39m\u001b[32m\u001b[1m2.629 μs\u001b[22m\u001b[39m ± \u001b[32m391.576 ns\u001b[39m  \u001b[90m┊\u001b[39m GC \u001b[90m(\u001b[39mmean ± σ\u001b[90m):  \u001b[39m0.00% ± 0.00%\n",
       "\n",
       "  \u001b[39m \u001b[39m \u001b[39m▆\u001b[39m \u001b[39m█\u001b[39m \u001b[39m▇\u001b[34m▁\u001b[39m\u001b[39m▄\u001b[32m \u001b[39m\u001b[39m▁\u001b[39m \u001b[39m \u001b[39m \u001b[39m \u001b[39m \u001b[39m \u001b[39m \u001b[39m \u001b[39m \u001b[39m \u001b[39m \u001b[39m \u001b[39m \u001b[39m \u001b[39m \u001b[39m \u001b[39m \u001b[39m \u001b[39m \u001b[39m \u001b[39m \u001b[39m \u001b[39m \u001b[39m \u001b[39m \u001b[39m \u001b[39m \u001b[39m \u001b[39m \u001b[39m \u001b[39m \u001b[39m \u001b[39m \u001b[39m \u001b[39m \u001b[39m \u001b[39m \u001b[39m \u001b[39m \u001b[39m \u001b[39m \u001b[39m \u001b[39m \u001b[39m \u001b[39m \u001b[39m \u001b[39m \u001b[39m \u001b[39m \u001b[39m \n",
       "  \u001b[39m▃\u001b[39m▄\u001b[39m█\u001b[39m█\u001b[39m█\u001b[39m▆\u001b[39m█\u001b[34m█\u001b[39m\u001b[39m█\u001b[32m▇\u001b[39m\u001b[39m█\u001b[39m▇\u001b[39m▆\u001b[39m▅\u001b[39m▄\u001b[39m▃\u001b[39m▂\u001b[39m▂\u001b[39m▂\u001b[39m▁\u001b[39m▁\u001b[39m▁\u001b[39m▁\u001b[39m▁\u001b[39m▁\u001b[39m▁\u001b[39m▁\u001b[39m▁\u001b[39m▁\u001b[39m▁\u001b[39m▁\u001b[39m▁\u001b[39m▁\u001b[39m▁\u001b[39m▁\u001b[39m▁\u001b[39m▁\u001b[39m▁\u001b[39m▁\u001b[39m▁\u001b[39m▁\u001b[39m▁\u001b[39m▁\u001b[39m▁\u001b[39m▁\u001b[39m▁\u001b[39m▁\u001b[39m▁\u001b[39m▁\u001b[39m▁\u001b[39m▁\u001b[39m▁\u001b[39m▁\u001b[39m▁\u001b[39m▁\u001b[39m▁\u001b[39m▁\u001b[39m▁\u001b[39m▁\u001b[39m \u001b[39m▂\n",
       "  2.25 μs\u001b[90m         Histogram: frequency by time\u001b[39m        4.59 μs \u001b[0m\u001b[1m<\u001b[22m\n",
       "\n",
       " Memory estimate\u001b[90m: \u001b[39m\u001b[33m608 bytes\u001b[39m, allocs estimate\u001b[90m: \u001b[39m\u001b[33m23\u001b[39m."
      ]
     },
     "execution_count": 38,
     "metadata": {},
     "output_type": "execute_result"
    }
   ],
   "source": [
    "Ydetbench = @benchmark det($Y)"
   ]
  },
  {
   "cell_type": "code",
   "execution_count": 39,
   "id": "20591b8f",
   "metadata": {},
   "outputs": [
    {
     "name": "stdout",
     "output_type": "stream",
     "text": [
      "det(X::Float64) is 7.97 times faster than det(Y::Real).\n"
     ]
    }
   ],
   "source": [
    "medianratio = median(Ydetbench.times)/median(Xdetbench.times);\n",
    "println(\"det(X::Float64) is $(round(medianratio; digits = 2)) times faster than det(Y::Real).\")"
   ]
  },
  {
   "cell_type": "markdown",
   "id": "ac8d1258",
   "metadata": {},
   "source": [
    "As we can see, not only does clearer typing provide better numerical accuracy, but it also improves code runtime."
   ]
  }
 ],
 "metadata": {
  "kernelspec": {
   "display_name": "Julia 1.6.3",
   "language": "julia",
   "name": "julia-1.6"
  },
  "language_info": {
   "file_extension": ".jl",
   "mimetype": "application/julia",
   "name": "julia",
   "version": "1.6.3"
  }
 },
 "nbformat": 4,
 "nbformat_minor": 5
}
