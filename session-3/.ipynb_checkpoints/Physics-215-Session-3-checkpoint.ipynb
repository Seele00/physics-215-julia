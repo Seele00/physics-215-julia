{
 "cells": [
  {
   "cell_type": "code",
   "execution_count": 1,
   "id": "c9df4e46",
   "metadata": {},
   "outputs": [
    {
     "name": "stderr",
     "output_type": "stream",
     "text": [
      "\u001b[32m\u001b[1m  Activating\u001b[22m\u001b[39m environment at `~/Documents/schoolwork-codes/physics-215-julia/session-3/Project.toml`\n"
     ]
    }
   ],
   "source": [
    "using Pkg\n",
    "Pkg.activate(\".\")\n",
    "using BenchmarkTools"
   ]
  },
  {
   "cell_type": "markdown",
   "id": "8e65e4ef",
   "metadata": {},
   "source": [
    "# Session 3: Types, type inferencing, and type stability"
   ]
  },
  {
   "cell_type": "markdown",
   "id": "1380c102",
   "metadata": {},
   "source": []
  }
 ],
 "metadata": {
  "kernelspec": {
   "display_name": "Julia 1.6.3",
   "language": "julia",
   "name": "julia-1.6"
  },
  "language_info": {
   "file_extension": ".jl",
   "mimetype": "application/julia",
   "name": "julia",
   "version": "1.6.3"
  }
 },
 "nbformat": 4,
 "nbformat_minor": 5
}
