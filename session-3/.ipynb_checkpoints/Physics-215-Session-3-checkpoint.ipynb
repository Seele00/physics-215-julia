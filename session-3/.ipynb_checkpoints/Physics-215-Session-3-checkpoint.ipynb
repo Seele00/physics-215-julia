{
 "cells": [
  {
   "cell_type": "code",
   "execution_count": 2,
   "id": "c9df4e46",
   "metadata": {},
   "outputs": [
    {
     "name": "stderr",
     "output_type": "stream",
     "text": [
      "\u001b[32m\u001b[1m  Activating\u001b[22m\u001b[39m environment at `~/Documents/schoolwork-codes/physics-215-julia/session-3/Project.toml`\n"
     ]
    }
   ],
   "source": [
    "using Pkg\n",
    "Pkg.activate(\".\")\n",
    "using BenchmarkTools"
   ]
  },
  {
   "cell_type": "markdown",
   "id": "8e65e4ef",
   "metadata": {},
   "source": [
    "# Session 3: Types, type inferencing, and type stability"
   ]
  },
  {
   "cell_type": "markdown",
   "id": "52027206",
   "metadata": {},
   "source": [
    "## KR1: Demonstrating type hierarchies"
   ]
  },
  {
   "cell_type": "markdown",
   "id": "1380c102",
   "metadata": {},
   "source": [
    "In this section, we will explore the different subtypes of the abstract datatype `Number`. Starting from `Number`, we can see its subtypes through the function `subtypes()`."
   ]
  },
  {
   "cell_type": "code",
   "execution_count": 13,
   "id": "9c12a5c9",
   "metadata": {},
   "outputs": [
    {
     "data": {
      "text/plain": [
       "2-element Vector{Any}:\n",
       " Complex\n",
       " Real"
      ]
     },
     "execution_count": 13,
     "metadata": {},
     "output_type": "execute_result"
    }
   ],
   "source": [
    "subtypes(Number)"
   ]
  },
  {
   "cell_type": "markdown",
   "id": "8390230f",
   "metadata": {},
   "source": [
    "`Number` is divided into two abstract subtypes: `Complex` for complex number types and `Real` for real number types. We can further check the subtypes in `Real` to identify the specific real number types."
   ]
  },
  {
   "cell_type": "code",
   "execution_count": 8,
   "id": "bf34736a",
   "metadata": {},
   "outputs": [
    {
     "data": {
      "text/plain": [
       "4-element Vector{Any}:\n",
       " AbstractFloat\n",
       " AbstractIrrational\n",
       " Integer\n",
       " Rational"
      ]
     },
     "execution_count": 8,
     "metadata": {},
     "output_type": "execute_result"
    }
   ],
   "source": [
    "subtypes(Real)"
   ]
  },
  {
   "cell_type": "code",
   "execution_count": 9,
   "id": "83369cbb",
   "metadata": {},
   "outputs": [
    {
     "data": {
      "text/plain": [
       "3-element Vector{Any}:\n",
       " Bool\n",
       " Signed\n",
       " Unsigned"
      ]
     },
     "execution_count": 9,
     "metadata": {},
     "output_type": "execute_result"
    }
   ],
   "source": [
    "subtypes(Integer)"
   ]
  },
  {
   "cell_type": "code",
   "execution_count": 11,
   "id": "23970804",
   "metadata": {},
   "outputs": [
    {
     "data": {
      "text/plain": [
       "6-element Vector{Any}:\n",
       " BigInt\n",
       " Int128\n",
       " Int16\n",
       " Int32\n",
       " Int64\n",
       " Int8"
      ]
     },
     "execution_count": 11,
     "metadata": {},
     "output_type": "execute_result"
    }
   ],
   "source": [
    "subtypes(Signed)"
   ]
  },
  {
   "cell_type": "code",
   "execution_count": 12,
   "id": "9a569809",
   "metadata": {},
   "outputs": [
    {
     "data": {
      "text/plain": [
       "Type[]"
      ]
     },
     "execution_count": 12,
     "metadata": {},
     "output_type": "execute_result"
    }
   ],
   "source": [
    "subtypes(BigInt)"
   ]
  },
  {
   "cell_type": "markdown",
   "id": "2a770e15",
   "metadata": {},
   "source": [
    "Thus if we trace the type hierarchy of `BigInt`, we can see that `BigInt` belongs to `Signed` integer types, which then belongs to the larger `Integer` abstract type, which then belongs to the `Real` number type."
   ]
  },
  {
   "cell_type": "markdown",
   "id": "aefd42c4",
   "metadata": {},
   "source": [
    "Note as well that the `Complex` number type has no subtypes under it. (`Complex` is of the type `UnionAll`, which is similar to the user-defined `struct`.)"
   ]
  },
  {
   "cell_type": "code",
   "execution_count": 24,
   "id": "5bf93301",
   "metadata": {},
   "outputs": [
    {
     "data": {
      "text/plain": [
       "Type[]"
      ]
     },
     "execution_count": 24,
     "metadata": {},
     "output_type": "execute_result"
    }
   ],
   "source": [
    "subtypes(Complex)"
   ]
  },
  {
   "cell_type": "markdown",
   "id": "1aabaa57",
   "metadata": {},
   "source": [
    "Using the function `supertype()`, we can trace back the `Complex` type to the `Number` abstract type."
   ]
  },
  {
   "cell_type": "code",
   "execution_count": 25,
   "id": "fd223344",
   "metadata": {},
   "outputs": [
    {
     "data": {
      "text/plain": [
       "Number"
      ]
     },
     "execution_count": 25,
     "metadata": {},
     "output_type": "execute_result"
    }
   ],
   "source": [
    "supertype(Complex)"
   ]
  },
  {
   "cell_type": "markdown",
   "id": "896693dc",
   "metadata": {},
   "source": [
    "## KR2: `struct` construction"
   ]
  },
  {
   "cell_type": "code",
   "execution_count": null,
   "id": "9ce23a85",
   "metadata": {},
   "outputs": [],
   "source": []
  }
 ],
 "metadata": {
  "kernelspec": {
   "display_name": "Julia 1.6.3",
   "language": "julia",
   "name": "julia-1.6"
  },
  "language_info": {
   "file_extension": ".jl",
   "mimetype": "application/julia",
   "name": "julia",
   "version": "1.6.3"
  }
 },
 "nbformat": 4,
 "nbformat_minor": 5
}
