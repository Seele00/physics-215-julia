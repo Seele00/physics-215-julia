{
 "cells": [
  {
   "cell_type": "code",
   "execution_count": 1,
   "id": "2f4f2eaa",
   "metadata": {},
   "outputs": [
    {
     "name": "stderr",
     "output_type": "stream",
     "text": [
      "\u001b[32m\u001b[1m  Activating\u001b[22m\u001b[39m environment at `~/Documents/schoolwork-codes/physics-215-julia/mini-project/Project.toml`\n"
     ]
    }
   ],
   "source": [
    "using Pkg\n",
    "Pkg.activate(\".\")\n",
    "\n",
    "using BenchmarkTools\n",
    "using DataFrames\n",
    "using Plots"
   ]
  },
  {
   "cell_type": "markdown",
   "id": "f5d28234",
   "metadata": {},
   "source": [
    "# Numerical and approximate solutions to the circular Sitnikov model\n",
    "### Project member: Gabriel Luis Dizon"
   ]
  },
  {
   "cell_type": "markdown",
   "id": "809b58b5",
   "metadata": {},
   "source": [
    "In this mini-project, I solve and plot the numerical and approximate solutions to the circular Sitnikov model using Julia. For the numerical solutions, I solve the reduced one-dimensional ODE of the circular Sitnikov model using 1) the 4th-order Runge-Kutta method and 2) the leapfrog integrator method. For the approximate solutions, I use the solutions derived by [Abouelmagd, et al. (2020)](https://doi.org/10.1016/j.newast.2019.101319), which employ the multiple scales method of perturbative expansion. The solutions and the methods used to obtain them are tested for both accuracy and speed. Solution accuracy is determined by the relative deviation of the running energies with the total initial energy of the system. Code speed is measured by benchmarking code performance with Julia's `BenchmarkTools` module."
   ]
  },
  {
   "cell_type": "markdown",
   "id": "b3793df1",
   "metadata": {},
   "source": [
    "The mini-project is structured as follows. Section 1 will briefly introduce the circular Sitnikov problem and set up the respective differential equations. Section 2 will explain and show the code for the numerical integrators used in solving the circular Sitnikov DEs. Section 3 will show the plots of the numerical solutions nade using the elements I have built up in Sections 1 and 2, as well as show the accuracy checks and performance benchmarks of the numerical solutions. Section 4 will give the plots of the approximate solutions, as well as their corresponding accuracy checks and performance benchmarks. Section 5 will summarize the mini-project results."
   ]
  },
  {
   "cell_type": "markdown",
   "id": "d95dca8a",
   "metadata": {},
   "source": [
    "## 1) The circular Sitnikov model ODE"
   ]
  },
  {
   "cell_type": "code",
   "execution_count": 2,
   "id": "24462639",
   "metadata": {},
   "outputs": [
    {
     "data": {
      "text/plain": [
       "sitnikov (generic function with 1 method)"
      ]
     },
     "execution_count": 2,
     "metadata": {},
     "output_type": "execute_result"
    }
   ],
   "source": [
    "function sitnikov(s::Vector)\n",
    "    z = s[1]\n",
    "    return -abs(z)/(0.25 + (z^2.0))\n",
    "end"
   ]
  },
  {
   "cell_type": "code",
   "execution_count": 3,
   "id": "f5a82d68",
   "metadata": {},
   "outputs": [
    {
     "data": {
      "text/plain": [
       "energy (generic function with 1 method)"
      ]
     },
     "execution_count": 3,
     "metadata": {},
     "output_type": "execute_result"
    }
   ],
   "source": [
    "function energy(s::Vector)\n",
    "    return (0.5*(s[2]^2.0)) + (1.0/(0.25 + (s[2]^2.0))) \n",
    "end"
   ]
  },
  {
   "cell_type": "code",
   "execution_count": 4,
   "id": "8f5e1450",
   "metadata": {},
   "outputs": [
    {
     "data": {
      "text/plain": [
       "2-element Vector{Float64}:\n",
       " 1.0\n",
       " 0.0"
      ]
     },
     "execution_count": 4,
     "metadata": {},
     "output_type": "execute_result"
    }
   ],
   "source": [
    "s = [1.0\n",
    "    0.0]"
   ]
  },
  {
   "cell_type": "code",
   "execution_count": 5,
   "id": "f0169dd6",
   "metadata": {},
   "outputs": [
    {
     "data": {
      "text/plain": [
       "(-0.8, 4.0)"
      ]
     },
     "execution_count": 5,
     "metadata": {},
     "output_type": "execute_result"
    }
   ],
   "source": [
    "sitnikov(s), energy(s)"
   ]
  }
 ],
 "metadata": {
  "kernelspec": {
   "display_name": "Julia 1.6.3",
   "language": "julia",
   "name": "julia-1.6"
  },
  "language_info": {
   "file_extension": ".jl",
   "mimetype": "application/julia",
   "name": "julia",
   "version": "1.6.3"
  }
 },
 "nbformat": 4,
 "nbformat_minor": 5
}
