{
 "cells": [
  {
   "cell_type": "markdown",
   "id": "7bc2d97c",
   "metadata": {},
   "source": [
    "## KR1: Using @code_* "
   ]
  },
  {
   "cell_type": "markdown",
   "id": "6ac4b1bb",
   "metadata": {},
   "source": [
    "For this section, we will explore the @code_* macros and what they can tell about the codes we write in Julia."
   ]
  },
  {
   "cell_type": "code",
   "execution_count": 1,
   "id": "f5a227ad",
   "metadata": {},
   "outputs": [
    {
     "name": "stdout",
     "output_type": "stream",
     "text": [
      "\t\u001b[0m.text\n",
      "\u001b[90m; ┌ @ intfuncs.jl:290 within `^'\u001b[39m\n",
      "\t\u001b[96m\u001b[1mpushq\u001b[22m\u001b[39m\t\u001b[0m%rax\n",
      "\t\u001b[96m\u001b[1mmovabsq\u001b[22m\u001b[39m\t\u001b[93m$power_by_squaring\u001b[39m\u001b[0m, \u001b[0m%rax\n",
      "\t\u001b[96m\u001b[1mcallq\u001b[22m\u001b[39m\t\u001b[0m*\u001b[0m%rax\n",
      "\t\u001b[96m\u001b[1mpopq\u001b[22m\u001b[39m\t\u001b[0m%rcx\n",
      "\t\u001b[96m\u001b[1mretq\u001b[22m\u001b[39m\n",
      "\t\u001b[96m\u001b[1mnop\u001b[22m\u001b[39m\n",
      "\u001b[90m; └\u001b[39m\n"
     ]
    }
   ],
   "source": [
    "@code_native 2^3"
   ]
  },
  {
   "cell_type": "code",
   "execution_count": 2,
   "id": "53ae8e0b",
   "metadata": {},
   "outputs": [
    {
     "name": "stdout",
     "output_type": "stream",
     "text": [
      "\t\u001b[0m.text\n",
      "\u001b[90m; ┌ @ math.jl:915 within `^'\u001b[39m\n",
      "\t\u001b[96m\u001b[1mleaq\u001b[22m\u001b[39m\t\u001b[33m1\u001b[39m\u001b[33m(\u001b[39m\u001b[0m%rdi\u001b[33m)\u001b[39m\u001b[0m, \u001b[0m%rax\n",
      "\t\u001b[96m\u001b[1mcmpq\u001b[22m\u001b[39m\t\u001b[33m$4\u001b[39m\u001b[0m, \u001b[0m%rax\n",
      "\t\u001b[96m\u001b[1mja\u001b[22m\u001b[39m\t\u001b[91mL46\u001b[39m\n",
      "\u001b[90m; │ @ math.jl within `^'\u001b[39m\n",
      "\t\u001b[96m\u001b[1mmovabsq\u001b[22m\u001b[39m\t\u001b[93m$.rodata.cst8\u001b[39m\u001b[0m, \u001b[0m%rcx\n",
      "\t\u001b[96m\u001b[1mvmovsd\u001b[22m\u001b[39m\t\u001b[33m(\u001b[39m\u001b[0m%rcx\u001b[33m)\u001b[39m\u001b[0m, \u001b[0m%xmm1                   \u001b[90m# xmm1 = mem[0],zero\u001b[39m\n",
      "\t\u001b[96m\u001b[1mmovabsq\u001b[22m\u001b[39m\t\u001b[93m$.rodata\u001b[39m\u001b[0m, \u001b[0m%rdx\n",
      "\t\u001b[96m\u001b[1mjmpq\u001b[22m\u001b[39m\t\u001b[0m*\u001b[33m(\u001b[39m\u001b[0m%rdx\u001b[0m,\u001b[0m%rax\u001b[0m,\u001b[33m8\u001b[39m\u001b[33m)\u001b[39m\n",
      "\t\u001b[96m\u001b[1mvmovsd\u001b[22m\u001b[39m\t\u001b[33m(\u001b[39m\u001b[0m%rcx\u001b[33m)\u001b[39m\u001b[0m, \u001b[0m%xmm1                   \u001b[90m# xmm1 = mem[0],zero\u001b[39m\n",
      "\u001b[90m; │ @ math.jl:915 within `^'\u001b[39m\n",
      "\u001b[90m; │┌ @ number.jl:217 within `inv'\u001b[39m\n",
      "\u001b[90m; ││┌ @ float.jl:335 within `/'\u001b[39m\n",
      "\t\u001b[96m\u001b[1mvdivsd\u001b[22m\u001b[39m\t\u001b[0m%xmm0\u001b[0m, \u001b[0m%xmm1\u001b[0m, \u001b[0m%xmm0\n",
      "\u001b[90m; │└└\u001b[39m\n",
      "\t\u001b[96m\u001b[1mretq\u001b[22m\u001b[39m\n",
      "\u001b[90m; │ @ math.jl:920 within `^'\u001b[39m\n",
      "\u001b[90m; │┌ @ float.jl:94 within `Float64'\u001b[39m\n",
      "\u001b[91mL46:\u001b[39m\n",
      "\t\u001b[96m\u001b[1mvcvtsi2sd\u001b[22m\u001b[39m\t\u001b[0m%rdi\u001b[0m, \u001b[0m%xmm1\u001b[0m, \u001b[0m%xmm1\n",
      "\t\u001b[96m\u001b[1mmovabsq\u001b[22m\u001b[39m\t\u001b[93m$pow\u001b[39m\u001b[0m, \u001b[0m%rax\n",
      "\u001b[90m; │└\u001b[39m\n",
      "\t\u001b[96m\u001b[1mjmpq\u001b[22m\u001b[39m\t\u001b[0m*\u001b[0m%rax\n",
      "\u001b[90m; │ @ math.jl within `^'\u001b[39m\n",
      "\t\u001b[96m\u001b[1mvmovaps\u001b[22m\u001b[39m\t\u001b[0m%xmm0\u001b[0m, \u001b[0m%xmm1\n",
      "\u001b[90m; │ @ math.jl:916 within `^'\u001b[39m\n",
      "\t\u001b[96m\u001b[1mvmovaps\u001b[22m\u001b[39m\t\u001b[0m%xmm1\u001b[0m, \u001b[0m%xmm0\n",
      "\t\u001b[96m\u001b[1mretq\u001b[22m\u001b[39m\n",
      "\u001b[90m; │ @ math.jl:918 within `^'\u001b[39m\n",
      "\u001b[90m; │┌ @ float.jl:332 within `*'\u001b[39m\n",
      "\t\u001b[96m\u001b[1mvmulsd\u001b[22m\u001b[39m\t\u001b[0m%xmm0\u001b[0m, \u001b[0m%xmm0\u001b[0m, \u001b[0m%xmm0\n",
      "\u001b[90m; │└\u001b[39m\n",
      "\t\u001b[96m\u001b[1mretq\u001b[22m\u001b[39m\n",
      "\u001b[90m; │ @ math.jl:919 within `^'\u001b[39m\n",
      "\u001b[90m; │┌ @ operators.jl:560 within `*' @ float.jl:332\u001b[39m\n",
      "\t\u001b[96m\u001b[1mvmulsd\u001b[22m\u001b[39m\t\u001b[0m%xmm0\u001b[0m, \u001b[0m%xmm0\u001b[0m, \u001b[0m%xmm1\n",
      "\t\u001b[96m\u001b[1mvmulsd\u001b[22m\u001b[39m\t\u001b[0m%xmm0\u001b[0m, \u001b[0m%xmm1\u001b[0m, \u001b[0m%xmm0\n",
      "\u001b[90m; │└\u001b[39m\n",
      "\t\u001b[96m\u001b[1mretq\u001b[22m\u001b[39m\n",
      "\t\u001b[96m\u001b[1mnopw\u001b[22m\u001b[39m\t\u001b[0m%cs\u001b[0m:\u001b[33m(\u001b[39m\u001b[0m%rax\u001b[0m,\u001b[0m%rax\u001b[33m)\u001b[39m\n",
      "\u001b[90m; └\u001b[39m\n"
     ]
    }
   ],
   "source": [
    "@code_native 2.0^3"
   ]
  },
  {
   "cell_type": "code",
   "execution_count": 3,
   "id": "9588b93f",
   "metadata": {},
   "outputs": [
    {
     "data": {
      "text/plain": [
       "CodeInfo(\n",
       "\u001b[90m1 ─\u001b[39m %1 = invoke Base.power_by_squaring(_2::Int64, _3::Int64)\u001b[36m::Int64\u001b[39m\n",
       "\u001b[90m└──\u001b[39m      return %1\n",
       ") => Int64"
      ]
     },
     "execution_count": 3,
     "metadata": {},
     "output_type": "execute_result"
    }
   ],
   "source": [
    "@code_typed 2^3"
   ]
  },
  {
   "cell_type": "code",
   "execution_count": 4,
   "id": "762c3d55",
   "metadata": {},
   "outputs": [
    {
     "data": {
      "text/plain": [
       "CodeInfo(\n",
       "\u001b[90m1 ──\u001b[39m %1  = (y === -1)\u001b[36m::Bool\u001b[39m\n",
       "\u001b[90m└───\u001b[39m       goto #3 if not %1\n",
       "\u001b[90m2 ──\u001b[39m %3  = Base.div_float(1.0, x)\u001b[36m::Float64\u001b[39m\n",
       "\u001b[90m└───\u001b[39m       return %3\n",
       "\u001b[90m3 ──\u001b[39m %5  = (y === 0)\u001b[36m::Bool\u001b[39m\n",
       "\u001b[90m└───\u001b[39m       goto #5 if not %5\n",
       "\u001b[90m4 ──\u001b[39m       return 1.0\n",
       "\u001b[90m5 ──\u001b[39m %8  = (y === 1)\u001b[36m::Bool\u001b[39m\n",
       "\u001b[90m└───\u001b[39m       goto #7 if not %8\n",
       "\u001b[90m6 ──\u001b[39m       return x\n",
       "\u001b[90m7 ──\u001b[39m %11 = (y === 2)\u001b[36m::Bool\u001b[39m\n",
       "\u001b[90m└───\u001b[39m       goto #9 if not %11\n",
       "\u001b[90m8 ──\u001b[39m %13 = Base.mul_float(x, x)\u001b[36m::Float64\u001b[39m\n",
       "\u001b[90m└───\u001b[39m       return %13\n",
       "\u001b[90m9 ──\u001b[39m %15 = (y === 3)\u001b[36m::Bool\u001b[39m\n",
       "\u001b[90m└───\u001b[39m       goto #11 if not %15\n",
       "\u001b[90m10 ─\u001b[39m %17 = Base.mul_float(x, x)\u001b[36m::Float64\u001b[39m\n",
       "\u001b[90m│   \u001b[39m %18 = Base.mul_float(%17, x)\u001b[36m::Float64\u001b[39m\n",
       "\u001b[90m└───\u001b[39m       return %18\n",
       "\u001b[90m11 ─\u001b[39m %20 = Base.sitofp(Float64, y)\u001b[36m::Float64\u001b[39m\n",
       "\u001b[90m│   \u001b[39m %21 = $(Expr(:foreigncall, \"llvm.pow.f64\", Float64, svec(Float64, Float64), 0, :(:llvmcall), Core.Argument(2), :(%20), :(%20), Core.Argument(2)))\u001b[36m::Float64\u001b[39m\n",
       "\u001b[90m└───\u001b[39m       return %21\n",
       ") => Float64"
      ]
     },
     "execution_count": 4,
     "metadata": {},
     "output_type": "execute_result"
    }
   ],
   "source": [
    "@code_typed 2.0^3"
   ]
  },
  {
   "cell_type": "code",
   "execution_count": 5,
   "id": "87b4d9fd",
   "metadata": {},
   "outputs": [
    {
     "name": "stdout",
     "output_type": "stream",
     "text": [
      "Variables\n",
      "  #self#\u001b[36m::Core.Const(^)\u001b[39m\n",
      "  x\u001b[36m::Int64\u001b[39m\n",
      "  p\u001b[36m::Int64\u001b[39m\n",
      "\n",
      "Body\u001b[36m::Int64\u001b[39m\n",
      "\u001b[90m1 ─\u001b[39m %1 = Base.power_by_squaring(x, p)\u001b[36m::Int64\u001b[39m\n",
      "\u001b[90m└──\u001b[39m      return %1\n"
     ]
    }
   ],
   "source": [
    "@code_warntype 2^3"
   ]
  },
  {
   "cell_type": "code",
   "execution_count": 6,
   "id": "7cdc43cf",
   "metadata": {},
   "outputs": [
    {
     "name": "stdout",
     "output_type": "stream",
     "text": [
      "Variables\n",
      "  #self#\u001b[36m::Core.Const(^)\u001b[39m\n",
      "  x\u001b[36m::Float64\u001b[39m\n",
      "  y\u001b[36m::Int64\u001b[39m\n",
      "\n",
      "Body\u001b[36m::Float64\u001b[39m\n",
      "\u001b[90m1 ──\u001b[39m       nothing\n",
      "\u001b[90m│   \u001b[39m %2  = (y == -1)\u001b[36m::Bool\u001b[39m\n",
      "\u001b[90m└───\u001b[39m       goto #3 if not %2\n",
      "\u001b[90m2 ──\u001b[39m %4  = Base.Math.inv(x)\u001b[36m::Float64\u001b[39m\n",
      "\u001b[90m└───\u001b[39m       return %4\n",
      "\u001b[90m3 ──\u001b[39m %6  = (y == 0)\u001b[36m::Bool\u001b[39m\n",
      "\u001b[90m└───\u001b[39m       goto #5 if not %6\n",
      "\u001b[90m4 ──\u001b[39m %8  = Base.Math.one(x)\u001b[36m::Core.Const(1.0)\u001b[39m\n",
      "\u001b[90m└───\u001b[39m       return %8\n",
      "\u001b[90m5 ──\u001b[39m %10 = (y == 1)\u001b[36m::Bool\u001b[39m\n",
      "\u001b[90m└───\u001b[39m       goto #7 if not %10\n",
      "\u001b[90m6 ──\u001b[39m       return x\n",
      "\u001b[90m7 ──\u001b[39m %13 = (y == 2)\u001b[36m::Bool\u001b[39m\n",
      "\u001b[90m└───\u001b[39m       goto #9 if not %13\n",
      "\u001b[90m8 ──\u001b[39m %15 = (x * x)\u001b[36m::Float64\u001b[39m\n",
      "\u001b[90m└───\u001b[39m       return %15\n",
      "\u001b[90m9 ──\u001b[39m %17 = (y == 3)\u001b[36m::Bool\u001b[39m\n",
      "\u001b[90m└───\u001b[39m       goto #11 if not %17\n",
      "\u001b[90m10 ─\u001b[39m %19 = (x * x * x)\u001b[36m::Float64\u001b[39m\n",
      "\u001b[90m└───\u001b[39m       return %19\n",
      "\u001b[90m11 ─\u001b[39m %21 = Base.cconvert(Base.Math.Float64, x)\u001b[36m::Float64\u001b[39m\n",
      "\u001b[90m│   \u001b[39m %22 = Base.Math.Float64(y)\u001b[36m::Float64\u001b[39m\n",
      "\u001b[90m│   \u001b[39m %23 = Base.cconvert(Base.Math.Float64, %22)\u001b[36m::Float64\u001b[39m\n",
      "\u001b[90m│   \u001b[39m %24 = Base.unsafe_convert(Base.Math.Float64, %21)\u001b[36m::Float64\u001b[39m\n",
      "\u001b[90m│   \u001b[39m %25 = Base.unsafe_convert(Base.Math.Float64, %23)\u001b[36m::Float64\u001b[39m\n",
      "\u001b[90m│   \u001b[39m %26 = $(Expr(:foreigncall, \"llvm.pow.f64\", Float64, svec(Float64, Float64), 0, :(:llvmcall), :(%24), :(%25), :(%23), :(%21)))\u001b[36m::Float64\u001b[39m\n",
      "\u001b[90m└───\u001b[39m       return %26\n"
     ]
    }
   ],
   "source": [
    "@code_warntype 2.0^3"
   ]
  },
  {
   "cell_type": "markdown",
   "id": "a1512594",
   "metadata": {},
   "source": [
    "## KR2: Julia constants"
   ]
  },
  {
   "cell_type": "markdown",
   "id": "2c298d9e",
   "metadata": {},
   "source": [
    "Here we will demonstrate the constant fixing of functions in Julia."
   ]
  },
  {
   "cell_type": "markdown",
   "id": "c9acd6bc",
   "metadata": {},
   "source": [
    "## KR3: Type inference and multiple dispatch"
   ]
  },
  {
   "cell_type": "markdown",
   "id": "db92773c",
   "metadata": {},
   "source": [
    "## KR4: my_sum(x) vs sum(x), benchmarked with @time"
   ]
  },
  {
   "cell_type": "markdown",
   "id": "317a4c2d",
   "metadata": {},
   "source": [
    "## KR5: Plotting Mandelbrot in Julia"
   ]
  },
  {
   "cell_type": "markdown",
   "id": "c5ba2562",
   "metadata": {},
   "source": [
    "## KR6-7: Benchmarking Mandelbrot generation with @time macros"
   ]
  }
 ],
 "metadata": {
  "kernelspec": {
   "display_name": "Julia 1.6.3",
   "language": "julia",
   "name": "julia-1.6"
  },
  "language_info": {
   "file_extension": ".jl",
   "mimetype": "application/julia",
   "name": "julia",
   "version": "1.6.3"
  }
 },
 "nbformat": 4,
 "nbformat_minor": 5
}
