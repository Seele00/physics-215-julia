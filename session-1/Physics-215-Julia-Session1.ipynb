{
 "cells": [
  {
   "cell_type": "markdown",
   "id": "7bc2d97c",
   "metadata": {},
   "source": [
    "## KR1: Using @code_* "
   ]
  },
  {
   "cell_type": "markdown",
   "id": "6ac4b1bb",
   "metadata": {},
   "source": [
    "For this section, we will explore the @code_* macros and what they can tell about the codes we write in Julia."
   ]
  },
  {
   "cell_type": "code",
   "execution_count": null,
   "id": "f5a227ad",
   "metadata": {},
   "outputs": [],
   "source": []
  }
 ],
 "metadata": {
  "kernelspec": {
   "display_name": "Julia 1.6.3",
   "language": "julia",
   "name": "julia-1.6"
  },
  "language_info": {
   "file_extension": ".jl",
   "mimetype": "application/julia",
   "name": "julia",
   "version": "1.6.3"
  }
 },
 "nbformat": 4,
 "nbformat_minor": 5
}
