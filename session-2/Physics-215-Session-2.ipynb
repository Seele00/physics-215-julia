{
 "cells": [
  {
   "cell_type": "code",
   "execution_count": 30,
   "id": "a3934c25",
   "metadata": {},
   "outputs": [
    {
     "name": "stderr",
     "output_type": "stream",
     "text": [
      "\u001b[32m\u001b[1m  Activating\u001b[22m\u001b[39m environment at `~/Documents/schoolwork-codes/physics-215-julia/session-2/Project.toml`\n"
     ]
    }
   ],
   "source": [
    "using Pkg\n",
    "Pkg.activate(\".\")\n",
    "\n",
    "using BenchmarkTools\n",
    "using Profile\n",
    "using ProfileView\n",
    "\n",
    "using Plots\n",
    "\n",
    "using QuadGK\n",
    "using SpecialFunctions"
   ]
  },
  {
   "cell_type": "markdown",
   "id": "946fa369",
   "metadata": {},
   "source": [
    "# Benchmarking user-defined complete elliptic integral of the 1st kind $K(m)$ against the Julia-defined `SpecialFunctions` version"
   ]
  },
  {
   "cell_type": "markdown",
   "id": "9fcf106b",
   "metadata": {},
   "source": [
    "For this exercise, I will be benchmarking the performance of two versions of the complete elliptic integral of the 1st kind. I will define my own version of it first, then compare its performance to the existing version defined in the [`SpecialFunctions.jl`](https://specialfunctions.juliamath.org/stable/) module."
   ]
  },
  {
   "cell_type": "markdown",
   "id": "24e02b21",
   "metadata": {},
   "source": [
    "The complete elliptic integral of the first kind is [defined](https://mathworld.wolfram.com/CompleteEllipticIntegraloftheFirstKind.html) as"
   ]
  },
  {
   "cell_type": "markdown",
   "id": "7977a7f5",
   "metadata": {},
   "source": [
    "\\begin{equation}\n",
    "K(m) = \\int_0^{\\pi/2}\\frac{d\\theta}{\\sqrt{1 - m\\sin^2\\theta}},\\quad m \\in [0, 1),\n",
    "\\end{equation}"
   ]
  },
  {
   "cell_type": "markdown",
   "id": "68083a6e",
   "metadata": {},
   "source": [
    "where $m$ is a parameter related to the elliptic modulus $k$ by $k^2 = m$. This integral function often appears as a solution to problems in mechanics involving nonlinear modifications to periodic motion, such as the restricted three-body problem (see [Dvorak and Lhotka 2014](http://www.scholarpedia.org/article/Sitnikov_problem) for a summary)."
   ]
  },
  {
   "cell_type": "markdown",
   "id": "db799f25",
   "metadata": {},
   "source": [
    "To define our own complete elliptic integral of the first kind, we will need a way to perform integration. For our purposes, we will be using the [`QuadGK.jl`](https://github.com/JuliaMath/QuadGK.jl) module to do the integration for us. Note that series and polynomial representations of $K(m)$ also exist, and we will implement one such series later on in this notebook. (Interestingly enough, the `SpecialFunctions` implementation of $K(m)$ does use a polynomial approximation, as cited in its [documentation](https://specialfunctions.juliamath.org/stable/functions_list/#SpecialFunctions.ellipk).)"
   ]
  },
  {
   "cell_type": "markdown",
   "id": "cfdf7256",
   "metadata": {},
   "source": [
    "## User-defined $K(m)$ (integral version)"
   ]
  },
  {
   "cell_type": "markdown",
   "id": "239f0989",
   "metadata": {},
   "source": [
    "We code the integral as follows:"
   ]
  },
  {
   "cell_type": "code",
   "execution_count": 2,
   "id": "9fb81e1e",
   "metadata": {},
   "outputs": [
    {
     "data": {
      "text/plain": [
       "elliptic1 (generic function with 1 method)"
      ]
     },
     "execution_count": 2,
     "metadata": {},
     "output_type": "execute_result"
    }
   ],
   "source": [
    "\"\"\"\n",
    "elliptic1(m)\n",
    "\n",
    "    Input: m ∈ [0, 1) (no explicit type, but ideally it is an array of floats)\n",
    "        (Note that the SpecialFunctions implementation has m ∈ (-∞, 1]. We will not be using that range.)\n",
    "    Output: Array{Tuple{Float64, Float64}}, \n",
    "        where the first tuple element is the value of the function, and the second is the error of the integration.\n",
    "\"\"\"\n",
    "\n",
    "function elliptic1(m)\n",
    "    invdn = θ -> 1.0/ sqrt(1 - m .* (sin(θ))^2)\n",
    "    return quadgk(invdn, 0, pi/2, rtol=1e-8)\n",
    "end"
   ]
  },
  {
   "cell_type": "markdown",
   "id": "ca6ca310",
   "metadata": {},
   "source": [
    "As a quick sanity check, we can compare the results of our function `elliptic1(m)` and the `SpecialFunctions` version `ellipk(m)` for a certain range of values. In our case, we let $m$ have 20 values from 0 to 0.9 (deliberately avoiding 1 as `elliptic1(m)` cannot handle values of `Inf`)."
   ]
  },
  {
   "cell_type": "code",
   "execution_count": 11,
   "id": "24154e54",
   "metadata": {},
   "outputs": [],
   "source": [
    "mrange = LinRange(0, 0.9, 20);\n",
    "\n",
    "k₁ = ellipk.(mrange); \n",
    "\n",
    "integ = elliptic1.(mrange);\n",
    "k₂ = first.(integ);\n",
    "error = last.(integ);\n",
    "\n",
    "δ = abs.(k₁ - k₂);"
   ]
  },
  {
   "cell_type": "code",
   "execution_count": 12,
   "id": "ed4a59ec",
   "metadata": {},
   "outputs": [
    {
     "data": {
      "text/plain": [
       "21×4 Matrix{Any}:\n",
       "  \"ellipk(m)\"   \"elliptic1(m)\"   \"Absolute deviation\"   \"Integration error\"\n",
       " 1.5708        1.5708           0.0                    0.0\n",
       " 1.58991       1.58991          2.22045e-16            1.17018e-13\n",
       " 1.61012       1.61012          2.22045e-16            2.05984e-11\n",
       " 1.63156       1.63156          0.0                    1.23465e-10\n",
       " 1.65436       1.65436          2.22045e-16            3.91055e-10\n",
       " 1.67869       1.67869          0.0                    8.38641e-10\n",
       " 1.70477       1.70477          2.22045e-16            1.2039e-9\n",
       " 1.73284       1.73284          0.0                    5.329e-10\n",
       " 1.76319       1.76319          4.44089e-16            3.52386e-9\n",
       " 1.79622       1.79622          0.0                    1.5721e-8\n",
       " 1.8324        1.8324           2.22045e-16            1.82069e-11\n",
       " 1.87233       1.87233          0.0                    5.77602e-11\n",
       " 1.91684       1.91684          2.22045e-16            1.60814e-10\n",
       " 1.967         1.967            2.22045e-16            3.97142e-10\n",
       " 2.02437       2.02437          0.0                    8.22103e-10\n",
       " 2.09118       2.09118          4.44089e-16            1.0389e-9\n",
       " 2.17091       2.17091          4.44089e-16            2.31036e-9\n",
       " 2.26933       2.26933          4.44089e-16            1.03879e-11\n",
       " 2.39719       2.39719          1.33227e-15            1.09064e-10\n",
       " 2.57809       2.57809          4.44089e-16            8.53201e-10"
      ]
     },
     "execution_count": 12,
     "metadata": {},
     "output_type": "execute_result"
    }
   ],
   "source": [
    "[\"ellipk(m)\" \"elliptic1(m)\" \"Absolute deviation\" \"Integration error\"\n",
    "k₁ k₂ δ error]"
   ]
  },
  {
   "cell_type": "code",
   "execution_count": 10,
   "id": "f5fda979",
   "metadata": {},
   "outputs": [
    {
     "data": {
      "text/plain": [
       "2.220446049250313e-16"
      ]
     },
     "execution_count": 10,
     "metadata": {},
     "output_type": "execute_result"
    }
   ],
   "source": [
    "eps(Float64)"
   ]
  },
  {
   "cell_type": "markdown",
   "id": "cb23d143",
   "metadata": {},
   "source": [
    "Recall that the 64-bit epsilon is given by the value of `eps(Float64)`.\n",
    "Given the absolute deviation values above, we can conclude that our defined function comes close to the predefined function up to a reasonable degree of accuracy."
   ]
  },
  {
   "cell_type": "markdown",
   "id": "6037e337",
   "metadata": {},
   "source": [
    "## User-defined $K(m)$ (series version)"
   ]
  },
  {
   "cell_type": "markdown",
   "id": "c3fdd0e4",
   "metadata": {},
   "source": [
    "We can also define $K(m)$ as the following sum:"
   ]
  },
  {
   "cell_type": "markdown",
   "id": "b913dff2",
   "metadata": {},
   "source": [
    "\\begin{equation}\n",
    "K(m) = \\frac{\\pi}{2}\\sum_{n=0}^\\infty \\left(\\frac{(2n)!}{2^{2n}(n!)^2}\\right)^2m^n\n",
    "\\end{equation}"
   ]
  },
  {
   "cell_type": "markdown",
   "id": "cf8eec69",
   "metadata": {},
   "source": [
    "We can calculate a truncated version of this sum up to some finite order $N$ using the following code."
   ]
  },
  {
   "cell_type": "code",
   "execution_count": 20,
   "id": "190405b5",
   "metadata": {},
   "outputs": [
    {
     "data": {
      "text/plain": [
       "sum_elliptic1 (generic function with 1 method)"
      ]
     },
     "execution_count": 20,
     "metadata": {},
     "output_type": "execute_result"
    }
   ],
   "source": [
    "\"\"\"\n",
    "sum_elliptic1(m; N::Int)\n",
    "\n",
    "    Input: \n",
    "        m ∈ [0, 1) (no explicit type, but ideally it is an array of floats)\n",
    "        N::Int (N > 30 gives out NaN and Inf values. Do not go past it.)\n",
    "        (Note that the SpecialFunctions implementation has m ∈ (-∞, 1]. We will not be using that range.)\n",
    "    Output: Array{BigFloat}, showing all the values of the function for every value of m\n",
    "\"\"\"\n",
    "\n",
    "function sum_elliptic1(m; N::Int)\n",
    "    sum = zeros(length(m))\n",
    "    for i in 0:N\n",
    "        aᵢ = (factorial(big(2i)) / ((2^(2i))*(factorial(big(i))^2)))^2\n",
    "        sum += aᵢ.* m.^i\n",
    "    end\n",
    "    return (pi/2).*sum\n",
    "end"
   ]
  },
  {
   "cell_type": "markdown",
   "id": "a891815d",
   "metadata": {},
   "source": [
    "To compare the accuracy of this series representation against the previous implementations, we plot `sum_elliptic1` at different orders of `N` and compare it with `ellipk` and `elliptic1`."
   ]
  },
  {
   "cell_type": "code",
   "execution_count": 57,
   "id": "aa539a9d",
   "metadata": {},
   "outputs": [
    {
     "data": {
      "image/svg+xml": [
       "<?xml version=\"1.0\" encoding=\"utf-8\"?>\n",
       "<svg xmlns=\"http://www.w3.org/2000/svg\" xmlns:xlink=\"http://www.w3.org/1999/xlink\" width=\"700\" height=\"700\" viewBox=\"0 0 2800 2800\">\n",
       "<defs>\n",
       "  <clipPath id=\"clip160\">\n",
       "    <rect x=\"0\" y=\"0\" width=\"2800\" height=\"2800\"/>\n",
       "  </clipPath>\n",
       "</defs>\n",
       "<path clip-path=\"url(#clip160)\" d=\"\n",
       "M0 2800 L2800 2800 L2800 0 L0 0  Z\n",
       "  \" fill=\"#ffffff\" fill-rule=\"evenodd\" fill-opacity=\"1\"/>\n",
       "<defs>\n",
       "  <clipPath id=\"clip161\">\n",
       "    <rect x=\"560\" y=\"280\" width=\"1961\" height=\"1961\"/>\n",
       "  </clipPath>\n",
       "</defs>\n",
       "<path clip-path=\"url(#clip160)\" d=\"\n",
       "M276.955 2570.14 L2752.76 2570.14 L2752.76 153.712 L276.955 153.712  Z\n",
       "  \" fill=\"#ffffff\" fill-rule=\"evenodd\" fill-opacity=\"1\"/>\n",
       "<defs>\n",
       "  <clipPath id=\"clip162\">\n",
       "    <rect x=\"276\" y=\"153\" width=\"2477\" height=\"2417\"/>\n",
       "  </clipPath>\n",
       "</defs>\n",
       "<polyline clip-path=\"url(#clip162)\" style=\"stroke:#000000; stroke-linecap:butt; stroke-linejoin:round; stroke-width:2; stroke-opacity:0.1; fill:none\" points=\"\n",
       "  347.025,2570.14 347.025,153.712 \n",
       "  \"/>\n",
       "<polyline clip-path=\"url(#clip162)\" style=\"stroke:#000000; stroke-linecap:butt; stroke-linejoin:round; stroke-width:2; stroke-opacity:0.1; fill:none\" points=\"\n",
       "  866.061,2570.14 866.061,153.712 \n",
       "  \"/>\n",
       "<polyline clip-path=\"url(#clip162)\" style=\"stroke:#000000; stroke-linecap:butt; stroke-linejoin:round; stroke-width:2; stroke-opacity:0.1; fill:none\" points=\"\n",
       "  1385.1,2570.14 1385.1,153.712 \n",
       "  \"/>\n",
       "<polyline clip-path=\"url(#clip162)\" style=\"stroke:#000000; stroke-linecap:butt; stroke-linejoin:round; stroke-width:2; stroke-opacity:0.1; fill:none\" points=\"\n",
       "  1904.13,2570.14 1904.13,153.712 \n",
       "  \"/>\n",
       "<polyline clip-path=\"url(#clip162)\" style=\"stroke:#000000; stroke-linecap:butt; stroke-linejoin:round; stroke-width:2; stroke-opacity:0.1; fill:none\" points=\"\n",
       "  2423.17,2570.14 2423.17,153.712 \n",
       "  \"/>\n",
       "<polyline clip-path=\"url(#clip160)\" style=\"stroke:#000000; stroke-linecap:butt; stroke-linejoin:round; stroke-width:4; stroke-opacity:1; fill:none\" points=\"\n",
       "  276.955,2570.14 2752.76,2570.14 \n",
       "  \"/>\n",
       "<polyline clip-path=\"url(#clip160)\" style=\"stroke:#000000; stroke-linecap:butt; stroke-linejoin:round; stroke-width:4; stroke-opacity:1; fill:none\" points=\"\n",
       "  347.025,2570.14 347.025,2551.24 \n",
       "  \"/>\n",
       "<polyline clip-path=\"url(#clip160)\" style=\"stroke:#000000; stroke-linecap:butt; stroke-linejoin:round; stroke-width:4; stroke-opacity:1; fill:none\" points=\"\n",
       "  866.061,2570.14 866.061,2551.24 \n",
       "  \"/>\n",
       "<polyline clip-path=\"url(#clip160)\" style=\"stroke:#000000; stroke-linecap:butt; stroke-linejoin:round; stroke-width:4; stroke-opacity:1; fill:none\" points=\"\n",
       "  1385.1,2570.14 1385.1,2551.24 \n",
       "  \"/>\n",
       "<polyline clip-path=\"url(#clip160)\" style=\"stroke:#000000; stroke-linecap:butt; stroke-linejoin:round; stroke-width:4; stroke-opacity:1; fill:none\" points=\"\n",
       "  1904.13,2570.14 1904.13,2551.24 \n",
       "  \"/>\n",
       "<polyline clip-path=\"url(#clip160)\" style=\"stroke:#000000; stroke-linecap:butt; stroke-linejoin:round; stroke-width:4; stroke-opacity:1; fill:none\" points=\"\n",
       "  2423.17,2570.14 2423.17,2551.24 \n",
       "  \"/>\n",
       "<path clip-path=\"url(#clip160)\" d=\"M324.409 2604.26 Q320.798 2604.26 318.969 2607.82 Q317.164 2611.36 317.164 2618.49 Q317.164 2625.6 318.969 2629.17 Q320.798 2632.71 324.409 2632.71 Q328.043 2632.71 329.849 2629.17 Q331.678 2625.6 331.678 2618.49 Q331.678 2611.36 329.849 2607.82 Q328.043 2604.26 324.409 2604.26 M324.409 2600.55 Q330.219 2600.55 333.275 2605.16 Q336.353 2609.74 336.353 2618.49 Q336.353 2627.22 333.275 2631.83 Q330.219 2636.41 324.409 2636.41 Q318.599 2636.41 315.52 2631.83 Q312.465 2627.22 312.465 2618.49 Q312.465 2609.74 315.52 2605.16 Q318.599 2600.55 324.409 2600.55 Z\" fill=\"#000000\" fill-rule=\"evenodd\" fill-opacity=\"1\" /><path clip-path=\"url(#clip160)\" d=\"M344.571 2629.86 L349.455 2629.86 L349.455 2635.74 L344.571 2635.74 L344.571 2629.86 Z\" fill=\"#000000\" fill-rule=\"evenodd\" fill-opacity=\"1\" /><path clip-path=\"url(#clip160)\" d=\"M369.64 2604.26 Q366.029 2604.26 364.2 2607.82 Q362.395 2611.36 362.395 2618.49 Q362.395 2625.6 364.2 2629.17 Q366.029 2632.71 369.64 2632.71 Q373.275 2632.71 375.08 2629.17 Q376.909 2625.6 376.909 2618.49 Q376.909 2611.36 375.08 2607.82 Q373.275 2604.26 369.64 2604.26 M369.64 2600.55 Q375.45 2600.55 378.506 2605.16 Q381.585 2609.74 381.585 2618.49 Q381.585 2627.22 378.506 2631.83 Q375.45 2636.41 369.64 2636.41 Q363.83 2636.41 360.751 2631.83 Q357.696 2627.22 357.696 2618.49 Q357.696 2609.74 360.751 2605.16 Q363.83 2600.55 369.64 2600.55 Z\" fill=\"#000000\" fill-rule=\"evenodd\" fill-opacity=\"1\" /><path clip-path=\"url(#clip160)\" d=\"M844.244 2604.26 Q840.632 2604.26 838.804 2607.82 Q836.998 2611.36 836.998 2618.49 Q836.998 2625.6 838.804 2629.17 Q840.632 2632.71 844.244 2632.71 Q847.878 2632.71 849.683 2629.17 Q851.512 2625.6 851.512 2618.49 Q851.512 2611.36 849.683 2607.82 Q847.878 2604.26 844.244 2604.26 M844.244 2600.55 Q850.054 2600.55 853.109 2605.16 Q856.188 2609.74 856.188 2618.49 Q856.188 2627.22 853.109 2631.83 Q850.054 2636.41 844.244 2636.41 Q838.433 2636.41 835.355 2631.83 Q832.299 2627.22 832.299 2618.49 Q832.299 2609.74 835.355 2605.16 Q838.433 2600.55 844.244 2600.55 Z\" fill=\"#000000\" fill-rule=\"evenodd\" fill-opacity=\"1\" /><path clip-path=\"url(#clip160)\" d=\"M864.405 2629.86 L869.29 2629.86 L869.29 2635.74 L864.405 2635.74 L864.405 2629.86 Z\" fill=\"#000000\" fill-rule=\"evenodd\" fill-opacity=\"1\" /><path clip-path=\"url(#clip160)\" d=\"M883.503 2631.8 L899.822 2631.8 L899.822 2635.74 L877.878 2635.74 L877.878 2631.8 Q880.54 2629.05 885.123 2624.42 Q889.729 2619.77 890.91 2618.43 Q893.155 2615.9 894.035 2614.17 Q894.938 2612.41 894.938 2610.72 Q894.938 2607.96 892.993 2606.23 Q891.072 2604.49 887.97 2604.49 Q885.771 2604.49 883.317 2605.25 Q880.887 2606.02 878.109 2607.57 L878.109 2602.85 Q880.933 2601.71 883.387 2601.13 Q885.841 2600.55 887.878 2600.55 Q893.248 2600.55 896.442 2603.24 Q899.637 2605.93 899.637 2610.42 Q899.637 2612.55 898.827 2614.47 Q898.04 2616.36 895.933 2618.96 Q895.354 2619.63 892.253 2622.85 Q889.151 2626.04 883.503 2631.8 Z\" fill=\"#000000\" fill-rule=\"evenodd\" fill-opacity=\"1\" /><path clip-path=\"url(#clip160)\" d=\"M1362.24 2604.26 Q1358.63 2604.26 1356.8 2607.82 Q1354.99 2611.36 1354.99 2618.49 Q1354.99 2625.6 1356.8 2629.17 Q1358.63 2632.71 1362.24 2632.71 Q1365.87 2632.71 1367.68 2629.17 Q1369.51 2625.6 1369.51 2618.49 Q1369.51 2611.36 1367.68 2607.82 Q1365.87 2604.26 1362.24 2604.26 M1362.24 2600.55 Q1368.05 2600.55 1371.1 2605.16 Q1374.18 2609.74 1374.18 2618.49 Q1374.18 2627.22 1371.1 2631.83 Q1368.05 2636.41 1362.24 2636.41 Q1356.43 2636.41 1353.35 2631.83 Q1350.29 2627.22 1350.29 2618.49 Q1350.29 2609.74 1353.35 2605.16 Q1356.43 2600.55 1362.24 2600.55 Z\" fill=\"#000000\" fill-rule=\"evenodd\" fill-opacity=\"1\" /><path clip-path=\"url(#clip160)\" d=\"M1382.4 2629.86 L1387.28 2629.86 L1387.28 2635.74 L1382.4 2635.74 L1382.4 2629.86 Z\" fill=\"#000000\" fill-rule=\"evenodd\" fill-opacity=\"1\" /><path clip-path=\"url(#clip160)\" d=\"M1410.32 2605.25 L1398.51 2623.7 L1410.32 2623.7 L1410.32 2605.25 M1409.09 2601.18 L1414.97 2601.18 L1414.97 2623.7 L1419.9 2623.7 L1419.9 2627.59 L1414.97 2627.59 L1414.97 2635.74 L1410.32 2635.74 L1410.32 2627.59 L1394.71 2627.59 L1394.71 2623.08 L1409.09 2601.18 Z\" fill=\"#000000\" fill-rule=\"evenodd\" fill-opacity=\"1\" /><path clip-path=\"url(#clip160)\" d=\"M1881.44 2604.26 Q1877.82 2604.26 1876 2607.82 Q1874.19 2611.36 1874.19 2618.49 Q1874.19 2625.6 1876 2629.17 Q1877.82 2632.71 1881.44 2632.71 Q1885.07 2632.71 1886.88 2629.17 Q1888.7 2625.6 1888.7 2618.49 Q1888.7 2611.36 1886.88 2607.82 Q1885.07 2604.26 1881.44 2604.26 M1881.44 2600.55 Q1887.25 2600.55 1890.3 2605.16 Q1893.38 2609.74 1893.38 2618.49 Q1893.38 2627.22 1890.3 2631.83 Q1887.25 2636.41 1881.44 2636.41 Q1875.63 2636.41 1872.55 2631.83 Q1869.49 2627.22 1869.49 2618.49 Q1869.49 2609.74 1872.55 2605.16 Q1875.63 2600.55 1881.44 2600.55 Z\" fill=\"#000000\" fill-rule=\"evenodd\" fill-opacity=\"1\" /><path clip-path=\"url(#clip160)\" d=\"M1901.6 2629.86 L1906.48 2629.86 L1906.48 2635.74 L1901.6 2635.74 L1901.6 2629.86 Z\" fill=\"#000000\" fill-rule=\"evenodd\" fill-opacity=\"1\" /><path clip-path=\"url(#clip160)\" d=\"M1927.25 2616.6 Q1924.1 2616.6 1922.25 2618.75 Q1920.42 2620.9 1920.42 2624.65 Q1920.42 2628.38 1922.25 2630.55 Q1924.1 2632.71 1927.25 2632.71 Q1930.39 2632.71 1932.22 2630.55 Q1934.07 2628.38 1934.07 2624.65 Q1934.07 2620.9 1932.22 2618.75 Q1930.39 2616.6 1927.25 2616.6 M1936.53 2601.94 L1936.53 2606.2 Q1934.77 2605.37 1932.96 2604.93 Q1931.18 2604.49 1929.42 2604.49 Q1924.79 2604.49 1922.34 2607.61 Q1919.91 2610.74 1919.56 2617.06 Q1920.93 2615.05 1922.99 2613.98 Q1925.05 2612.89 1927.52 2612.89 Q1932.73 2612.89 1935.74 2616.06 Q1938.77 2619.21 1938.77 2624.65 Q1938.77 2629.98 1935.63 2633.19 Q1932.48 2636.41 1927.25 2636.41 Q1921.25 2636.41 1918.08 2631.83 Q1914.91 2627.22 1914.91 2618.49 Q1914.91 2610.3 1918.8 2605.44 Q1922.69 2600.55 1929.24 2600.55 Q1931 2600.55 1932.78 2600.9 Q1934.58 2601.25 1936.53 2601.94 Z\" fill=\"#000000\" fill-rule=\"evenodd\" fill-opacity=\"1\" /><path clip-path=\"url(#clip160)\" d=\"M2400.6 2604.26 Q2396.99 2604.26 2395.16 2607.82 Q2393.35 2611.36 2393.35 2618.49 Q2393.35 2625.6 2395.16 2629.17 Q2396.99 2632.71 2400.6 2632.71 Q2404.23 2632.71 2406.04 2629.17 Q2407.87 2625.6 2407.87 2618.49 Q2407.87 2611.36 2406.04 2607.82 Q2404.23 2604.26 2400.6 2604.26 M2400.6 2600.55 Q2406.41 2600.55 2409.46 2605.16 Q2412.54 2609.74 2412.54 2618.49 Q2412.54 2627.22 2409.46 2631.83 Q2406.41 2636.41 2400.6 2636.41 Q2394.79 2636.41 2391.71 2631.83 Q2388.65 2627.22 2388.65 2618.49 Q2388.65 2609.74 2391.71 2605.16 Q2394.79 2600.55 2400.6 2600.55 Z\" fill=\"#000000\" fill-rule=\"evenodd\" fill-opacity=\"1\" /><path clip-path=\"url(#clip160)\" d=\"M2420.76 2629.86 L2425.64 2629.86 L2425.64 2635.74 L2420.76 2635.74 L2420.76 2629.86 Z\" fill=\"#000000\" fill-rule=\"evenodd\" fill-opacity=\"1\" /><path clip-path=\"url(#clip160)\" d=\"M2445.83 2619.33 Q2442.5 2619.33 2440.58 2621.11 Q2438.68 2622.89 2438.68 2626.02 Q2438.68 2629.14 2440.58 2630.93 Q2442.5 2632.71 2445.83 2632.71 Q2449.16 2632.71 2451.08 2630.93 Q2453.01 2629.12 2453.01 2626.02 Q2453.01 2622.89 2451.08 2621.11 Q2449.19 2619.33 2445.83 2619.33 M2441.15 2617.34 Q2438.14 2616.6 2436.46 2614.54 Q2434.79 2612.48 2434.79 2609.51 Q2434.79 2605.37 2437.73 2602.96 Q2440.69 2600.55 2445.83 2600.55 Q2450.99 2600.55 2453.93 2602.96 Q2456.87 2605.37 2456.87 2609.51 Q2456.87 2612.48 2455.18 2614.54 Q2453.52 2616.6 2450.53 2617.34 Q2453.91 2618.12 2455.78 2620.42 Q2457.68 2622.71 2457.68 2626.02 Q2457.68 2631.04 2454.6 2633.73 Q2451.55 2636.41 2445.83 2636.41 Q2440.11 2636.41 2437.03 2633.73 Q2433.98 2631.04 2433.98 2626.02 Q2433.98 2622.71 2435.88 2620.42 Q2437.77 2618.12 2441.15 2617.34 M2439.44 2609.95 Q2439.44 2612.64 2441.11 2614.14 Q2442.8 2615.65 2445.83 2615.65 Q2448.84 2615.65 2450.53 2614.14 Q2452.24 2612.64 2452.24 2609.95 Q2452.24 2607.27 2450.53 2605.76 Q2448.84 2604.26 2445.83 2604.26 Q2442.8 2604.26 2441.11 2605.76 Q2439.44 2607.27 2439.44 2609.95 Z\" fill=\"#000000\" fill-rule=\"evenodd\" fill-opacity=\"1\" /><path clip-path=\"url(#clip160)\" d=\"M1516.81 2692.2 Q1519.01 2688.25 1522.06 2686.37 Q1525.12 2684.5 1529.26 2684.5 Q1534.83 2684.5 1537.85 2688.41 Q1540.88 2692.29 1540.88 2699.49 L1540.88 2721 L1534.99 2721 L1534.99 2699.68 Q1534.99 2694.55 1533.17 2692.07 Q1531.36 2689.59 1527.63 2689.59 Q1523.08 2689.59 1520.44 2692.61 Q1517.8 2695.64 1517.8 2700.86 L1517.8 2721 L1511.91 2721 L1511.91 2699.68 Q1511.91 2694.52 1510.1 2692.07 Q1508.28 2689.59 1504.5 2689.59 Q1500.01 2689.59 1497.37 2692.64 Q1494.72 2695.67 1494.72 2700.86 L1494.72 2721 L1488.84 2721 L1488.84 2685.36 L1494.72 2685.36 L1494.72 2690.89 Q1496.73 2687.62 1499.53 2686.06 Q1502.33 2684.5 1506.18 2684.5 Q1510.07 2684.5 1512.77 2686.47 Q1515.51 2688.44 1516.81 2692.2 Z\" fill=\"#000000\" fill-rule=\"evenodd\" fill-opacity=\"1\" /><polyline clip-path=\"url(#clip162)\" style=\"stroke:#000000; stroke-linecap:butt; stroke-linejoin:round; stroke-width:2; stroke-opacity:0.1; fill:none\" points=\"\n",
       "  276.955,2096.19 2752.76,2096.19 \n",
       "  \"/>\n",
       "<polyline clip-path=\"url(#clip162)\" style=\"stroke:#000000; stroke-linecap:butt; stroke-linejoin:round; stroke-width:2; stroke-opacity:0.1; fill:none\" points=\"\n",
       "  276.955,1530.4 2752.76,1530.4 \n",
       "  \"/>\n",
       "<polyline clip-path=\"url(#clip162)\" style=\"stroke:#000000; stroke-linecap:butt; stroke-linejoin:round; stroke-width:2; stroke-opacity:0.1; fill:none\" points=\"\n",
       "  276.955,964.619 2752.76,964.619 \n",
       "  \"/>\n",
       "<polyline clip-path=\"url(#clip162)\" style=\"stroke:#000000; stroke-linecap:butt; stroke-linejoin:round; stroke-width:2; stroke-opacity:0.1; fill:none\" points=\"\n",
       "  276.955,398.835 2752.76,398.835 \n",
       "  \"/>\n",
       "<polyline clip-path=\"url(#clip160)\" style=\"stroke:#000000; stroke-linecap:butt; stroke-linejoin:round; stroke-width:4; stroke-opacity:1; fill:none\" points=\"\n",
       "  276.955,2570.14 276.955,153.712 \n",
       "  \"/>\n",
       "<polyline clip-path=\"url(#clip160)\" style=\"stroke:#000000; stroke-linecap:butt; stroke-linejoin:round; stroke-width:4; stroke-opacity:1; fill:none\" points=\"\n",
       "  276.955,2096.19 295.852,2096.19 \n",
       "  \"/>\n",
       "<polyline clip-path=\"url(#clip160)\" style=\"stroke:#000000; stroke-linecap:butt; stroke-linejoin:round; stroke-width:4; stroke-opacity:1; fill:none\" points=\"\n",
       "  276.955,1530.4 295.852,1530.4 \n",
       "  \"/>\n",
       "<polyline clip-path=\"url(#clip160)\" style=\"stroke:#000000; stroke-linecap:butt; stroke-linejoin:round; stroke-width:4; stroke-opacity:1; fill:none\" points=\"\n",
       "  276.955,964.619 295.852,964.619 \n",
       "  \"/>\n",
       "<polyline clip-path=\"url(#clip160)\" style=\"stroke:#000000; stroke-linecap:butt; stroke-linejoin:round; stroke-width:4; stroke-opacity:1; fill:none\" points=\"\n",
       "  276.955,398.835 295.852,398.835 \n",
       "  \"/>\n",
       "<path clip-path=\"url(#clip160)\" d=\"M139.423 2109.53 L147.062 2109.53 L147.062 2083.17 L138.752 2084.83 L138.752 2080.57 L147.015 2078.91 L151.691 2078.91 L151.691 2109.53 L159.33 2109.53 L159.33 2113.47 L139.423 2113.47 L139.423 2109.53 Z\" fill=\"#000000\" fill-rule=\"evenodd\" fill-opacity=\"1\" /><path clip-path=\"url(#clip160)\" d=\"M168.775 2107.59 L173.659 2107.59 L173.659 2113.47 L168.775 2113.47 L168.775 2107.59 Z\" fill=\"#000000\" fill-rule=\"evenodd\" fill-opacity=\"1\" /><path clip-path=\"url(#clip160)\" d=\"M182.663 2078.91 L204.886 2078.91 L204.886 2080.9 L192.339 2113.47 L187.455 2113.47 L199.261 2082.84 L182.663 2082.84 L182.663 2078.91 Z\" fill=\"#000000\" fill-rule=\"evenodd\" fill-opacity=\"1\" /><path clip-path=\"url(#clip160)\" d=\"M214.052 2078.91 L232.409 2078.91 L232.409 2082.84 L218.335 2082.84 L218.335 2091.32 Q219.353 2090.97 220.372 2090.81 Q221.39 2090.62 222.409 2090.62 Q228.196 2090.62 231.575 2093.79 Q234.955 2096.96 234.955 2102.38 Q234.955 2107.96 231.483 2111.06 Q228.01 2114.14 221.691 2114.14 Q219.515 2114.14 217.247 2113.77 Q215.001 2113.4 212.594 2112.66 L212.594 2107.96 Q214.677 2109.09 216.899 2109.65 Q219.122 2110.2 221.598 2110.2 Q225.603 2110.2 227.941 2108.1 Q230.279 2105.99 230.279 2102.38 Q230.279 2098.77 227.941 2096.66 Q225.603 2094.56 221.598 2094.56 Q219.723 2094.56 217.848 2094.97 Q215.997 2095.39 214.052 2096.27 L214.052 2078.91 Z\" fill=\"#000000\" fill-rule=\"evenodd\" fill-opacity=\"1\" /><path clip-path=\"url(#clip160)\" d=\"M141.645 1543.75 L157.964 1543.75 L157.964 1547.68 L136.02 1547.68 L136.02 1543.75 Q138.682 1540.99 143.265 1536.36 Q147.872 1531.71 149.052 1530.37 Q151.298 1527.85 152.177 1526.11 Q153.08 1524.35 153.08 1522.66 Q153.08 1519.91 151.136 1518.17 Q149.215 1516.43 146.113 1516.43 Q143.914 1516.43 141.46 1517.2 Q139.029 1517.96 136.252 1519.51 L136.252 1514.79 Q139.076 1513.66 141.529 1513.08 Q143.983 1512.5 146.02 1512.5 Q151.39 1512.5 154.585 1515.18 Q157.779 1517.87 157.779 1522.36 Q157.779 1524.49 156.969 1526.41 Q156.182 1528.31 154.076 1530.9 Q153.497 1531.57 150.395 1534.79 Q147.293 1537.98 141.645 1543.75 Z\" fill=\"#000000\" fill-rule=\"evenodd\" fill-opacity=\"1\" /><path clip-path=\"url(#clip160)\" d=\"M167.779 1541.8 L172.663 1541.8 L172.663 1547.68 L167.779 1547.68 L167.779 1541.8 Z\" fill=\"#000000\" fill-rule=\"evenodd\" fill-opacity=\"1\" /><path clip-path=\"url(#clip160)\" d=\"M192.849 1516.2 Q189.237 1516.2 187.409 1519.77 Q185.603 1523.31 185.603 1530.44 Q185.603 1537.54 187.409 1541.11 Q189.237 1544.65 192.849 1544.65 Q196.483 1544.65 198.288 1541.11 Q200.117 1537.54 200.117 1530.44 Q200.117 1523.31 198.288 1519.77 Q196.483 1516.2 192.849 1516.2 M192.849 1512.5 Q198.659 1512.5 201.714 1517.1 Q204.793 1521.69 204.793 1530.44 Q204.793 1539.17 201.714 1543.77 Q198.659 1548.35 192.849 1548.35 Q187.038 1548.35 183.96 1543.77 Q180.904 1539.17 180.904 1530.44 Q180.904 1521.69 183.96 1517.1 Q187.038 1512.5 192.849 1512.5 Z\" fill=\"#000000\" fill-rule=\"evenodd\" fill-opacity=\"1\" /><path clip-path=\"url(#clip160)\" d=\"M223.01 1516.2 Q219.399 1516.2 217.571 1519.77 Q215.765 1523.31 215.765 1530.44 Q215.765 1537.54 217.571 1541.11 Q219.399 1544.65 223.01 1544.65 Q226.645 1544.65 228.45 1541.11 Q230.279 1537.54 230.279 1530.44 Q230.279 1523.31 228.45 1519.77 Q226.645 1516.2 223.01 1516.2 M223.01 1512.5 Q228.821 1512.5 231.876 1517.1 Q234.955 1521.69 234.955 1530.44 Q234.955 1539.17 231.876 1543.77 Q228.821 1548.35 223.01 1548.35 Q217.2 1548.35 214.122 1543.77 Q211.066 1539.17 211.066 1530.44 Q211.066 1521.69 214.122 1517.1 Q217.2 1512.5 223.01 1512.5 Z\" fill=\"#000000\" fill-rule=\"evenodd\" fill-opacity=\"1\" /><path clip-path=\"url(#clip160)\" d=\"M142.64 977.964 L158.96 977.964 L158.96 981.899 L137.016 981.899 L137.016 977.964 Q139.678 975.209 144.261 970.58 Q148.867 965.927 150.048 964.584 Q152.293 962.061 153.173 960.325 Q154.076 958.566 154.076 956.876 Q154.076 954.122 152.131 952.385 Q150.21 950.649 147.108 950.649 Q144.909 950.649 142.455 951.413 Q140.025 952.177 137.247 953.728 L137.247 949.006 Q140.071 947.872 142.525 947.293 Q144.978 946.714 147.015 946.714 Q152.386 946.714 155.58 949.399 Q158.775 952.084 158.775 956.575 Q158.775 958.705 157.964 960.626 Q157.177 962.524 155.071 965.117 Q154.492 965.788 151.39 969.006 Q148.289 972.2 142.64 977.964 Z\" fill=\"#000000\" fill-rule=\"evenodd\" fill-opacity=\"1\" /><path clip-path=\"url(#clip160)\" d=\"M168.775 976.02 L173.659 976.02 L173.659 981.899 L168.775 981.899 L168.775 976.02 Z\" fill=\"#000000\" fill-rule=\"evenodd\" fill-opacity=\"1\" /><path clip-path=\"url(#clip160)\" d=\"M187.872 977.964 L204.191 977.964 L204.191 981.899 L182.247 981.899 L182.247 977.964 Q184.909 975.209 189.492 970.58 Q194.099 965.927 195.279 964.584 Q197.524 962.061 198.404 960.325 Q199.307 958.566 199.307 956.876 Q199.307 954.122 197.362 952.385 Q195.441 950.649 192.339 950.649 Q190.14 950.649 187.687 951.413 Q185.256 952.177 182.478 953.728 L182.478 949.006 Q185.302 947.872 187.756 947.293 Q190.21 946.714 192.247 946.714 Q197.617 946.714 200.811 949.399 Q204.006 952.084 204.006 956.575 Q204.006 958.705 203.196 960.626 Q202.409 962.524 200.302 965.117 Q199.724 965.788 196.622 969.006 Q193.52 972.2 187.872 977.964 Z\" fill=\"#000000\" fill-rule=\"evenodd\" fill-opacity=\"1\" /><path clip-path=\"url(#clip160)\" d=\"M214.052 947.339 L232.409 947.339 L232.409 951.274 L218.335 951.274 L218.335 959.746 Q219.353 959.399 220.372 959.237 Q221.39 959.052 222.409 959.052 Q228.196 959.052 231.575 962.223 Q234.955 965.395 234.955 970.811 Q234.955 976.39 231.483 979.492 Q228.01 982.57 221.691 982.57 Q219.515 982.57 217.247 982.2 Q215.001 981.83 212.594 981.089 L212.594 976.39 Q214.677 977.524 216.899 978.08 Q219.122 978.635 221.598 978.635 Q225.603 978.635 227.941 976.529 Q230.279 974.422 230.279 970.811 Q230.279 967.2 227.941 965.094 Q225.603 962.987 221.598 962.987 Q219.723 962.987 217.848 963.404 Q215.997 963.821 214.052 964.7 L214.052 947.339 Z\" fill=\"#000000\" fill-rule=\"evenodd\" fill-opacity=\"1\" /><path clip-path=\"url(#clip160)\" d=\"M141.645 412.18 L157.964 412.18 L157.964 416.115 L136.02 416.115 L136.02 412.18 Q138.682 409.425 143.265 404.795 Q147.872 400.143 149.052 398.8 Q151.298 396.277 152.177 394.541 Q153.08 392.782 153.08 391.092 Q153.08 388.337 151.136 386.601 Q149.215 384.865 146.113 384.865 Q143.914 384.865 141.46 385.629 Q139.029 386.393 136.252 387.944 L136.252 383.221 Q139.076 382.087 141.529 381.508 Q143.983 380.93 146.02 380.93 Q151.39 380.93 154.585 383.615 Q157.779 386.3 157.779 390.791 Q157.779 392.92 156.969 394.842 Q156.182 396.74 154.076 399.332 Q153.497 400.004 150.395 403.221 Q147.293 406.416 141.645 412.18 Z\" fill=\"#000000\" fill-rule=\"evenodd\" fill-opacity=\"1\" /><path clip-path=\"url(#clip160)\" d=\"M167.779 410.235 L172.663 410.235 L172.663 416.115 L167.779 416.115 L167.779 410.235 Z\" fill=\"#000000\" fill-rule=\"evenodd\" fill-opacity=\"1\" /><path clip-path=\"url(#clip160)\" d=\"M182.895 381.555 L201.251 381.555 L201.251 385.49 L187.177 385.49 L187.177 393.962 Q188.196 393.615 189.214 393.453 Q190.233 393.268 191.251 393.268 Q197.038 393.268 200.418 396.439 Q203.798 399.61 203.798 405.027 Q203.798 410.606 200.325 413.707 Q196.853 416.786 190.534 416.786 Q188.358 416.786 186.089 416.416 Q183.844 416.045 181.437 415.305 L181.437 410.606 Q183.52 411.74 185.742 412.295 Q187.964 412.851 190.441 412.851 Q194.446 412.851 196.784 410.744 Q199.122 408.638 199.122 405.027 Q199.122 401.416 196.784 399.309 Q194.446 397.203 190.441 397.203 Q188.566 397.203 186.691 397.62 Q184.839 398.036 182.895 398.916 L182.895 381.555 Z\" fill=\"#000000\" fill-rule=\"evenodd\" fill-opacity=\"1\" /><path clip-path=\"url(#clip160)\" d=\"M223.01 384.633 Q219.399 384.633 217.571 388.198 Q215.765 391.74 215.765 398.869 Q215.765 405.976 217.571 409.541 Q219.399 413.082 223.01 413.082 Q226.645 413.082 228.45 409.541 Q230.279 405.976 230.279 398.869 Q230.279 391.74 228.45 388.198 Q226.645 384.633 223.01 384.633 M223.01 380.93 Q228.821 380.93 231.876 385.536 Q234.955 390.12 234.955 398.869 Q234.955 407.596 231.876 412.203 Q228.821 416.786 223.01 416.786 Q217.2 416.786 214.122 412.203 Q211.066 407.596 211.066 398.869 Q211.066 390.12 214.122 385.536 Q217.2 380.93 223.01 380.93 Z\" fill=\"#000000\" fill-rule=\"evenodd\" fill-opacity=\"1\" /><path clip-path=\"url(#clip160)\" d=\"M32.2442 1434.48 L32.2442 1428.05 L52.328 1428.05 L32.2442 1406.72 L32.2442 1398.45 L54.3968 1422.03 L79.7642 1396.76 L79.7642 1405.23 L56.8794 1428.05 L79.7642 1428.05 L79.7642 1434.48 L32.2442 1434.48 Z\" fill=\"#000000\" fill-rule=\"evenodd\" fill-opacity=\"1\" /><path clip-path=\"url(#clip160)\" d=\"M30.3026 1377.92 Q37.6232 1382.18 44.7846 1384.25 Q51.946 1386.32 59.2984 1386.32 Q66.6508 1386.32 73.8759 1384.25 Q81.0691 1382.15 88.3579 1377.92 L88.3579 1383.01 Q80.8782 1387.79 73.6531 1390.17 Q66.428 1392.53 59.2984 1392.53 Q52.2006 1392.53 45.0074 1390.17 Q37.8142 1387.82 30.3026 1383.01 L30.3026 1377.92 Z\" fill=\"#000000\" fill-rule=\"evenodd\" fill-opacity=\"1\" /><path clip-path=\"url(#clip160)\" d=\"M50.9593 1338.8 Q47.0126 1336.61 45.1347 1333.55 Q43.2568 1330.5 43.2568 1326.36 Q43.2568 1320.79 47.1717 1317.76 Q51.0548 1314.74 58.2481 1314.74 L79.7642 1314.74 L79.7642 1320.63 L58.439 1320.63 Q53.3146 1320.63 50.832 1322.44 Q48.3494 1324.26 48.3494 1327.98 Q48.3494 1332.53 51.3731 1335.17 Q54.3968 1337.82 59.6167 1337.82 L79.7642 1337.82 L79.7642 1343.7 L58.439 1343.7 Q53.2828 1343.7 50.832 1345.52 Q48.3494 1347.33 48.3494 1351.12 Q48.3494 1355.61 51.4049 1358.25 Q54.4286 1360.89 59.6167 1360.89 L79.7642 1360.89 L79.7642 1366.78 L44.1162 1366.78 L44.1162 1360.89 L49.6544 1360.89 Q46.376 1358.89 44.8164 1356.09 Q43.2568 1353.28 43.2568 1349.43 Q43.2568 1345.55 45.2302 1342.84 Q47.2036 1340.11 50.9593 1338.8 Z\" fill=\"#000000\" fill-rule=\"evenodd\" fill-opacity=\"1\" /><path clip-path=\"url(#clip160)\" d=\"M30.3026 1303.98 L30.3026 1298.89 Q37.8142 1294.12 45.0074 1291.76 Q52.2006 1289.37 59.2984 1289.37 Q66.428 1289.37 73.6531 1291.76 Q80.8782 1294.12 88.3579 1298.89 L88.3579 1303.98 Q81.0691 1299.75 73.8759 1297.68 Q66.6508 1295.58 59.2984 1295.58 Q51.946 1295.58 44.7846 1297.68 Q37.6232 1299.75 30.3026 1303.98 Z\" fill=\"#000000\" fill-rule=\"evenodd\" fill-opacity=\"1\" /><path clip-path=\"url(#clip160)\" d=\"M1086.47 12.096 L1094.66 12.096 L1094.66 37.6572 L1121.8 12.096 L1132.33 12.096 L1102.31 40.2903 L1134.48 72.576 L1123.7 72.576 L1094.66 43.45 L1094.66 72.576 L1086.47 72.576 L1086.47 12.096 Z\" fill=\"#000000\" fill-rule=\"evenodd\" fill-opacity=\"1\" /><path clip-path=\"url(#clip160)\" d=\"M1158.46 9.62495 Q1153.03 18.942 1150.4 28.0566 Q1147.76 37.1711 1147.76 46.5287 Q1147.76 55.8863 1150.4 65.0818 Q1153.07 74.2369 1158.46 83.5134 L1151.98 83.5134 Q1145.9 73.9938 1142.86 64.7983 Q1139.86 55.6027 1139.86 46.5287 Q1139.86 37.4952 1142.86 28.3401 Q1145.86 19.1851 1151.98 9.62495 L1158.46 9.62495 Z\" fill=\"#000000\" fill-rule=\"evenodd\" fill-opacity=\"1\" /><path clip-path=\"url(#clip160)\" d=\"M1208.24 35.9153 Q1211.04 30.8922 1214.93 28.5022 Q1218.82 26.1121 1224.08 26.1121 Q1231.17 26.1121 1235.02 31.0947 Q1238.87 36.0368 1238.87 45.1919 L1238.87 72.576 L1231.37 72.576 L1231.37 45.4349 Q1231.37 38.913 1229.06 35.7533 Q1226.76 32.5936 1222.02 32.5936 Q1216.22 32.5936 1212.86 36.4419 Q1209.5 40.2903 1209.5 46.9338 L1209.5 72.576 L1202 72.576 L1202 45.4349 Q1202 38.8725 1199.7 35.7533 Q1197.39 32.5936 1192.57 32.5936 Q1186.85 32.5936 1183.49 36.4824 Q1180.13 40.3308 1180.13 46.9338 L1180.13 72.576 L1172.63 72.576 L1172.63 27.2059 L1180.13 27.2059 L1180.13 34.2544 Q1182.68 30.082 1186.25 28.0971 Q1189.81 26.1121 1194.71 26.1121 Q1199.65 26.1121 1203.1 28.6237 Q1206.58 31.1352 1208.24 35.9153 Z\" fill=\"#000000\" fill-rule=\"evenodd\" fill-opacity=\"1\" /><path clip-path=\"url(#clip160)\" d=\"M1252.56 9.62495 L1259.04 9.62495 Q1265.12 19.1851 1268.11 28.3401 Q1271.15 37.4952 1271.15 46.5287 Q1271.15 55.6027 1268.11 64.7983 Q1265.12 73.9938 1259.04 83.5134 L1252.56 83.5134 Q1257.95 74.2369 1260.58 65.0818 Q1263.25 55.8863 1263.25 46.5287 Q1263.25 37.1711 1260.58 28.0566 Q1257.95 18.942 1252.56 9.62495 Z\" fill=\"#000000\" fill-rule=\"evenodd\" fill-opacity=\"1\" /><path clip-path=\"url(#clip160)\" d=\"M1335.44 9.54393 L1335.44 15.7418 L1328.31 15.7418 Q1324.3 15.7418 1322.72 17.3622 Q1321.18 18.9825 1321.18 23.1955 L1321.18 27.2059 L1333.46 27.2059 L1333.46 32.9987 L1321.18 32.9987 L1321.18 72.576 L1313.69 72.576 L1313.69 32.9987 L1306.56 32.9987 L1306.56 27.2059 L1313.69 27.2059 L1313.69 24.0462 Q1313.69 16.471 1317.21 13.0277 Q1320.74 9.54393 1328.39 9.54393 L1335.44 9.54393 Z\" fill=\"#000000\" fill-rule=\"evenodd\" fill-opacity=\"1\" /><path clip-path=\"url(#clip160)\" d=\"M1359.26 32.4315 Q1353.26 32.4315 1349.78 37.1306 Q1346.3 41.7891 1346.3 49.9314 Q1346.3 58.0738 1349.74 62.7728 Q1353.22 67.4314 1359.26 67.4314 Q1365.21 67.4314 1368.7 62.7323 Q1372.18 58.0333 1372.18 49.9314 Q1372.18 41.8701 1368.7 37.1711 Q1365.21 32.4315 1359.26 32.4315 M1359.26 26.1121 Q1368.98 26.1121 1374.53 32.4315 Q1380.08 38.7509 1380.08 49.9314 Q1380.08 61.0714 1374.53 67.4314 Q1368.98 73.7508 1359.26 73.7508 Q1349.5 73.7508 1343.95 67.4314 Q1338.44 61.0714 1338.44 49.9314 Q1338.44 38.7509 1343.95 32.4315 Q1349.5 26.1121 1359.26 26.1121 Z\" fill=\"#000000\" fill-rule=\"evenodd\" fill-opacity=\"1\" /><path clip-path=\"url(#clip160)\" d=\"M1418.73 34.1734 Q1417.47 33.4443 1415.97 33.1202 Q1414.51 32.7556 1412.73 32.7556 Q1406.41 32.7556 1403.01 36.8875 Q1399.65 40.9789 1399.65 48.6757 L1399.65 72.576 L1392.15 72.576 L1392.15 27.2059 L1399.65 27.2059 L1399.65 34.2544 Q1402 30.1225 1405.76 28.1376 Q1409.53 26.1121 1414.92 26.1121 Q1415.69 26.1121 1416.62 26.2337 Q1417.55 26.3147 1418.69 26.5172 L1418.73 34.1734 Z\" fill=\"#000000\" fill-rule=\"evenodd\" fill-opacity=\"1\" /><path clip-path=\"url(#clip160)\" d=\"M1488.24 35.9153 Q1491.04 30.8922 1494.92 28.5022 Q1498.81 26.1121 1504.08 26.1121 Q1511.17 26.1121 1515.02 31.0947 Q1518.87 36.0368 1518.87 45.1919 L1518.87 72.576 L1511.37 72.576 L1511.37 45.4349 Q1511.37 38.913 1509.06 35.7533 Q1506.75 32.5936 1502.01 32.5936 Q1496.22 32.5936 1492.86 36.4419 Q1489.5 40.2903 1489.5 46.9338 L1489.5 72.576 L1482 72.576 L1482 45.4349 Q1482 38.8725 1479.69 35.7533 Q1477.38 32.5936 1472.56 32.5936 Q1466.85 32.5936 1463.49 36.4824 Q1460.13 40.3308 1460.13 46.9338 L1460.13 72.576 L1452.63 72.576 L1452.63 27.2059 L1460.13 27.2059 L1460.13 34.2544 Q1462.68 30.082 1466.24 28.0971 Q1469.81 26.1121 1474.71 26.1121 Q1479.65 26.1121 1483.1 28.6237 Q1486.58 31.1352 1488.24 35.9153 Z\" fill=\"#000000\" fill-rule=\"evenodd\" fill-opacity=\"1\" /><path clip-path=\"url(#clip160)\" d=\"M1561.08 34.9026 L1613.01 34.9026 L1613.01 41.7081 L1561.08 41.7081 L1561.08 34.9026 M1561.08 51.4303 L1613.01 51.4303 L1613.01 58.3168 L1561.08 58.3168 L1561.08 51.4303 Z\" fill=\"#000000\" fill-rule=\"evenodd\" fill-opacity=\"1\" /><path clip-path=\"url(#clip160)\" d=\"M1673.89 9.62495 Q1668.47 18.942 1665.83 28.0566 Q1663.2 37.1711 1663.2 46.5287 Q1663.2 55.8863 1665.83 65.0818 Q1668.51 74.2369 1673.89 83.5134 L1667.41 83.5134 Q1661.34 73.9938 1658.3 64.7983 Q1655.3 55.6027 1655.3 46.5287 Q1655.3 37.4952 1658.3 28.3401 Q1661.3 19.1851 1667.41 9.62495 L1673.89 9.62495 Z\" fill=\"#000000\" fill-rule=\"evenodd\" fill-opacity=\"1\" /><path clip-path=\"url(#clip160)\" d=\"M1706.91 17.4837 Q1700.59 17.4837 1697.39 23.7221 Q1694.23 29.92 1694.23 42.3968 Q1694.23 54.833 1697.39 61.0714 Q1700.59 67.2693 1706.91 67.2693 Q1713.27 67.2693 1716.43 61.0714 Q1719.63 54.833 1719.63 42.3968 Q1719.63 29.92 1716.43 23.7221 Q1713.27 17.4837 1706.91 17.4837 M1706.91 11.0023 Q1717.08 11.0023 1722.42 19.0636 Q1727.81 27.0843 1727.81 42.3968 Q1727.81 57.6687 1722.42 65.73 Q1717.08 73.7508 1706.91 73.7508 Q1696.74 73.7508 1691.35 65.73 Q1686.01 57.6687 1686.01 42.3968 Q1686.01 27.0843 1691.35 19.0636 Q1696.74 11.0023 1706.91 11.0023 Z\" fill=\"#000000\" fill-rule=\"evenodd\" fill-opacity=\"1\" /><path clip-path=\"url(#clip160)\" d=\"M1743.04 62.2867 L1751.59 62.2867 L1751.59 69.2543 L1744.95 82.2172 L1739.72 82.2172 L1743.04 69.2543 L1743.04 62.2867 Z\" fill=\"#000000\" fill-rule=\"evenodd\" fill-opacity=\"1\" /><path clip-path=\"url(#clip160)\" d=\"M1812.43 17.4837 Q1806.12 17.4837 1802.92 23.7221 Q1799.76 29.92 1799.76 42.3968 Q1799.76 54.833 1802.92 61.0714 Q1806.12 67.2693 1812.43 67.2693 Q1818.79 67.2693 1821.95 61.0714 Q1825.15 54.833 1825.15 42.3968 Q1825.15 29.92 1821.95 23.7221 Q1818.79 17.4837 1812.43 17.4837 M1812.43 11.0023 Q1822.6 11.0023 1827.95 19.0636 Q1833.34 27.0843 1833.34 42.3968 Q1833.34 57.6687 1827.95 65.73 Q1822.6 73.7508 1812.43 73.7508 Q1802.27 73.7508 1796.88 65.73 Q1791.53 57.6687 1791.53 42.3968 Q1791.53 27.0843 1796.88 19.0636 Q1802.27 11.0023 1812.43 11.0023 Z\" fill=\"#000000\" fill-rule=\"evenodd\" fill-opacity=\"1\" /><path clip-path=\"url(#clip160)\" d=\"M1847.72 62.2867 L1856.27 62.2867 L1856.27 72.576 L1847.72 72.576 L1847.72 62.2867 Z\" fill=\"#000000\" fill-rule=\"evenodd\" fill-opacity=\"1\" /><path clip-path=\"url(#clip160)\" d=\"M1874.33 71.3202 L1874.33 63.8666 Q1877.41 65.3249 1880.57 66.0946 Q1883.73 66.8642 1886.77 66.8642 Q1894.87 66.8642 1899.12 61.436 Q1903.42 55.9673 1904.03 44.8678 Q1901.68 48.3516 1898.07 50.215 Q1894.47 52.0784 1890.09 52.0784 Q1881.02 52.0784 1875.71 46.6097 Q1870.44 41.1005 1870.44 31.5808 Q1870.44 22.2638 1875.95 16.633 Q1881.46 11.0023 1890.62 11.0023 Q1901.11 11.0023 1906.62 19.0636 Q1912.17 27.0843 1912.17 42.3968 Q1912.17 56.6965 1905.36 65.2439 Q1898.6 73.7508 1887.13 73.7508 Q1884.05 73.7508 1880.9 73.1431 Q1877.74 72.5355 1874.33 71.3202 M1890.62 45.678 Q1896.13 45.678 1899.33 41.9107 Q1902.57 38.1433 1902.57 31.5808 Q1902.57 25.0589 1899.33 21.2916 Q1896.13 17.4837 1890.62 17.4837 Q1885.11 17.4837 1881.87 21.2916 Q1878.67 25.0589 1878.67 31.5808 Q1878.67 38.1433 1881.87 41.9107 Q1885.11 45.678 1890.62 45.678 Z\" fill=\"#000000\" fill-rule=\"evenodd\" fill-opacity=\"1\" /><path clip-path=\"url(#clip160)\" d=\"M1924.64 9.62495 L1931.13 9.62495 Q1937.2 19.1851 1940.2 28.3401 Q1943.24 37.4952 1943.24 46.5287 Q1943.24 55.6027 1940.2 64.7983 Q1937.2 73.9938 1931.13 83.5134 L1924.64 83.5134 Q1930.03 74.2369 1932.67 65.0818 Q1935.34 55.8863 1935.34 46.5287 Q1935.34 37.1711 1932.67 28.0566 Q1930.03 18.942 1924.64 9.62495 Z\" fill=\"#000000\" fill-rule=\"evenodd\" fill-opacity=\"1\" /><polyline clip-path=\"url(#clip162)\" style=\"stroke:#800080; stroke-linecap:butt; stroke-linejoin:round; stroke-width:12; stroke-opacity:1; fill:none\" points=\"\n",
       "  347.025,2501.75 469.954,2458.49 592.884,2412.75 715.813,2364.24 838.743,2312.65 961.672,2257.57 1084.6,2198.55 1207.53,2135.03 1330.46,2066.33 1453.39,1991.58 \n",
       "  1576.32,1909.71 1699.25,1819.33 1822.18,1718.61 1945.11,1605.08 2068.04,1475.26 2190.97,1324.06 2313.9,1143.62 2436.83,920.865 2559.76,631.5 2682.69,222.102 \n",
       "  \n",
       "  \"/>\n",
       "<polyline clip-path=\"url(#clip162)\" style=\"stroke:#0000ff; stroke-linecap:butt; stroke-linejoin:round; stroke-width:12; stroke-opacity:1; fill:none\" points=\"\n",
       "  347.025,2501.75 469.954,2458.49 592.884,2412.75 715.813,2364.24 838.743,2312.65 961.672,2257.57 1084.6,2198.55 1207.53,2135.03 1330.46,2066.33 1453.39,1991.58 \n",
       "  1576.32,1909.71 1699.25,1819.33 1822.18,1718.61 1945.11,1605.08 2068.04,1475.26 2190.97,1324.06 2313.9,1143.62 2436.83,920.865 2559.76,631.5 2682.69,222.102 \n",
       "  \n",
       "  \"/>\n",
       "<polyline clip-path=\"url(#clip162)\" style=\"stroke:#008000; stroke-linecap:butt; stroke-linejoin:round; stroke-width:12; stroke-opacity:1; fill:none\" stroke-dasharray=\"48, 30\" points=\"\n",
       "  347.025,2501.75 469.954,2458.49 592.884,2412.75 715.813,2364.24 838.743,2312.66 961.672,2257.61 1084.6,2198.68 1207.53,2135.37 1330.46,2067.12 1453.39,1993.3 \n",
       "  1576.32,1913.19 1699.25,1825.98 1822.18,1730.77 1945.11,1626.57 2068.04,1512.26 2190.97,1386.64 2313.9,1248.37 2436.83,1095.98 2559.76,927.889 2682.69,742.366 \n",
       "  \n",
       "  \"/>\n",
       "<polyline clip-path=\"url(#clip162)\" style=\"stroke:#ffa500; stroke-linecap:butt; stroke-linejoin:round; stroke-width:12; stroke-opacity:1; fill:none\" stroke-dasharray=\"48, 30\" points=\"\n",
       "  347.025,2501.75 469.954,2458.49 592.884,2412.75 715.813,2364.24 838.743,2312.65 961.672,2257.57 1084.6,2198.55 1207.53,2135.03 1330.46,2066.33 1453.39,1991.59 \n",
       "  1576.32,1909.75 1699.25,1819.48 1822.18,1719.04 1945.11,1606.21 2068.04,1478.1 2190.97,1330.94 2313.9,1159.76 2436.83,958.1 2559.76,717.457 2682.69,426.743 \n",
       "  \n",
       "  \"/>\n",
       "<polyline clip-path=\"url(#clip162)\" style=\"stroke:#ff0000; stroke-linecap:butt; stroke-linejoin:round; stroke-width:12; stroke-opacity:1; fill:none\" stroke-dasharray=\"48, 30\" points=\"\n",
       "  347.025,2501.75 469.954,2458.49 592.884,2412.75 715.813,2364.24 838.743,2312.65 961.672,2257.57 1084.6,2198.55 1207.53,2135.03 1330.46,2066.33 1453.39,1991.58 \n",
       "  1576.32,1909.71 1699.25,1819.33 1822.18,1718.63 1945.11,1605.15 2068.04,1475.52 2190.97,1324.95 2313.9,1146.56 2436.83,930.131 2559.76,660.359 2682.69,313.96 \n",
       "  \n",
       "  \"/>\n",
       "<polyline clip-path=\"url(#clip162)\" style=\"stroke:#800080; stroke-linecap:butt; stroke-linejoin:round; stroke-width:12; stroke-opacity:1; fill:none\" stroke-dasharray=\"48, 30\" points=\"\n",
       "  347.025,2501.75 469.954,2458.49 592.884,2412.75 715.813,2364.24 838.743,2312.65 961.672,2257.57 1084.6,2198.55 1207.53,2135.03 1330.46,2066.33 1453.39,1991.58 \n",
       "  1576.32,1909.71 1699.25,1819.33 1822.18,1718.61 1945.11,1605.09 2068.04,1475.28 2190.97,1324.18 2313.9,1144.2 2436.83,923.352 2559.76,641.901 2682.69,266.081 \n",
       "  \n",
       "  \"/>\n",
       "<path clip-path=\"url(#clip160)\" d=\"\n",
       "M359.482 778.58 L1222.14 778.58 L1222.14 234.26 L359.482 234.26  Z\n",
       "  \" fill=\"#ffffff\" fill-rule=\"evenodd\" fill-opacity=\"1\"/>\n",
       "<polyline clip-path=\"url(#clip160)\" style=\"stroke:#000000; stroke-linecap:butt; stroke-linejoin:round; stroke-width:4; stroke-opacity:1; fill:none\" points=\"\n",
       "  359.482,778.58 1222.14,778.58 1222.14,234.26 359.482,234.26 359.482,778.58 \n",
       "  \"/>\n",
       "<polyline clip-path=\"url(#clip160)\" style=\"stroke:#800080; stroke-linecap:butt; stroke-linejoin:round; stroke-width:6; stroke-opacity:1; fill:none\" points=\"\n",
       "  386.99,312.02 552.044,312.02 \n",
       "  \"/>\n",
       "<path clip-path=\"url(#clip160)\" d=\"M612.921 287.801 L612.921 294.641 Q608.928 292.732 605.386 291.794 Q601.844 290.857 598.546 290.857 Q592.817 290.857 589.692 293.079 Q586.601 295.301 586.601 299.398 Q586.601 302.836 588.65 304.607 Q590.733 306.343 596.497 307.419 L600.733 308.287 Q608.58 309.78 612.296 313.565 Q616.046 317.315 616.046 323.634 Q616.046 331.169 610.976 335.058 Q605.941 338.947 596.185 338.947 Q592.504 338.947 588.337 338.113 Q584.205 337.28 579.761 335.648 L579.761 328.426 Q584.032 330.822 588.129 332.037 Q592.226 333.252 596.185 333.252 Q602.191 333.252 605.455 330.891 Q608.719 328.53 608.719 324.155 Q608.719 320.336 606.358 318.183 Q604.032 316.03 598.685 314.954 L594.414 314.12 Q586.567 312.558 583.06 309.225 Q579.553 305.891 579.553 299.954 Q579.553 293.079 584.379 289.121 Q589.24 285.162 597.747 285.162 Q601.393 285.162 605.178 285.822 Q608.962 286.482 612.921 287.801 Z\" fill=\"#000000\" fill-rule=\"evenodd\" fill-opacity=\"1\" /><path clip-path=\"url(#clip160)\" d=\"M632.886 332.106 L632.886 352.731 L626.462 352.731 L626.462 299.051 L632.886 299.051 L632.886 304.954 Q634.9 301.482 637.955 299.815 Q641.045 298.114 645.316 298.114 Q652.4 298.114 656.809 303.739 Q661.254 309.363 661.254 318.53 Q661.254 327.697 656.809 333.322 Q652.4 338.947 645.316 338.947 Q641.045 338.947 637.955 337.28 Q634.9 335.579 632.886 332.106 M654.622 318.53 Q654.622 311.482 651.705 307.488 Q648.823 303.461 643.754 303.461 Q638.684 303.461 635.768 307.488 Q632.886 311.482 632.886 318.53 Q632.886 325.579 635.768 329.606 Q638.684 333.599 643.754 333.599 Q648.823 333.599 651.705 329.606 Q654.622 325.579 654.622 318.53 Z\" fill=\"#000000\" fill-rule=\"evenodd\" fill-opacity=\"1\" /><path clip-path=\"url(#clip160)\" d=\"M705.108 316.898 L705.108 320.023 L675.733 320.023 Q676.149 326.62 679.691 330.093 Q683.267 333.53 689.622 333.53 Q693.302 333.53 696.74 332.627 Q700.212 331.724 703.615 329.919 L703.615 335.961 Q700.177 337.419 696.566 338.183 Q692.955 338.947 689.24 338.947 Q679.934 338.947 674.483 333.53 Q669.066 328.113 669.066 318.877 Q669.066 309.329 674.205 303.739 Q679.379 298.114 688.129 298.114 Q695.976 298.114 700.524 303.183 Q705.108 308.218 705.108 316.898 M698.719 315.023 Q698.649 309.78 695.767 306.655 Q692.92 303.53 688.198 303.53 Q682.851 303.53 679.622 306.551 Q676.427 309.572 675.941 315.058 L698.719 315.023 Z\" fill=\"#000000\" fill-rule=\"evenodd\" fill-opacity=\"1\" /><path clip-path=\"url(#clip160)\" d=\"M743.58 300.544 L743.58 306.516 Q740.871 305.023 738.128 304.294 Q735.42 303.53 732.642 303.53 Q726.427 303.53 722.989 307.488 Q719.552 311.412 719.552 318.53 Q719.552 325.648 722.989 329.606 Q726.427 333.53 732.642 333.53 Q735.42 333.53 738.128 332.801 Q740.871 332.037 743.58 330.544 L743.58 336.447 Q740.906 337.697 738.024 338.322 Q735.177 338.947 731.948 338.947 Q723.163 338.947 717.989 333.426 Q712.816 327.905 712.816 318.53 Q712.816 309.016 718.024 303.565 Q723.267 298.114 732.364 298.114 Q735.316 298.114 738.128 298.739 Q740.941 299.329 743.58 300.544 Z\" fill=\"#000000\" fill-rule=\"evenodd\" fill-opacity=\"1\" /><path clip-path=\"url(#clip160)\" d=\"M754.691 299.051 L761.08 299.051 L761.08 337.94 L754.691 337.94 L754.691 299.051 M754.691 283.912 L761.08 283.912 L761.08 292.002 L754.691 292.002 L754.691 283.912 Z\" fill=\"#000000\" fill-rule=\"evenodd\" fill-opacity=\"1\" /><path clip-path=\"url(#clip160)\" d=\"M792.121 318.391 Q784.378 318.391 781.392 320.162 Q778.406 321.933 778.406 326.204 Q778.406 329.606 780.628 331.62 Q782.885 333.599 786.739 333.599 Q792.052 333.599 795.246 329.849 Q798.475 326.065 798.475 319.815 L798.475 318.391 L792.121 318.391 M804.864 315.752 L804.864 337.94 L798.475 337.94 L798.475 332.037 Q796.288 335.579 793.024 337.28 Q789.76 338.947 785.038 338.947 Q779.066 338.947 775.524 335.613 Q772.017 332.245 772.017 326.62 Q772.017 320.058 776.392 316.725 Q780.802 313.391 789.517 313.391 L798.475 313.391 L798.475 312.766 Q798.475 308.357 795.559 305.961 Q792.677 303.53 787.434 303.53 Q784.1 303.53 780.941 304.329 Q777.781 305.127 774.864 306.725 L774.864 300.822 Q778.371 299.468 781.67 298.808 Q784.968 298.114 788.093 298.114 Q796.531 298.114 800.697 302.489 Q804.864 306.863 804.864 315.752 Z\" fill=\"#000000\" fill-rule=\"evenodd\" fill-opacity=\"1\" /><path clip-path=\"url(#clip160)\" d=\"M818.024 283.912 L824.413 283.912 L824.413 337.94 L818.024 337.94 L818.024 283.912 Z\" fill=\"#000000\" fill-rule=\"evenodd\" fill-opacity=\"1\" /><path clip-path=\"url(#clip160)\" d=\"M838.058 286.1 L867.85 286.1 L867.85 292.002 L845.072 292.002 L845.072 307.28 L865.628 307.28 L865.628 313.183 L845.072 313.183 L845.072 337.94 L838.058 337.94 L838.058 286.1 Z\" fill=\"#000000\" fill-rule=\"evenodd\" fill-opacity=\"1\" /><path clip-path=\"url(#clip160)\" d=\"M874.134 322.593 L874.134 299.051 L880.523 299.051 L880.523 322.35 Q880.523 327.87 882.676 330.648 Q884.829 333.391 889.134 333.391 Q894.308 333.391 897.294 330.093 Q900.315 326.794 900.315 321.1 L900.315 299.051 L906.704 299.051 L906.704 337.94 L900.315 337.94 L900.315 331.968 Q897.989 335.509 894.898 337.245 Q891.843 338.947 887.78 338.947 Q881.079 338.947 877.607 334.78 Q874.134 330.613 874.134 322.593 M890.211 298.114 L890.211 298.114 Z\" fill=\"#000000\" fill-rule=\"evenodd\" fill-opacity=\"1\" /><path clip-path=\"url(#clip160)\" d=\"M952.19 314.468 L952.19 337.94 L945.801 337.94 L945.801 314.676 Q945.801 309.155 943.648 306.412 Q941.495 303.669 937.19 303.669 Q932.016 303.669 929.03 306.968 Q926.044 310.266 926.044 315.961 L926.044 337.94 L919.62 337.94 L919.62 299.051 L926.044 299.051 L926.044 305.093 Q928.336 301.586 931.426 299.85 Q934.551 298.114 938.613 298.114 Q945.315 298.114 948.752 302.28 Q952.19 306.412 952.19 314.468 Z\" fill=\"#000000\" fill-rule=\"evenodd\" fill-opacity=\"1\" /><path clip-path=\"url(#clip160)\" d=\"M992.919 300.544 L992.919 306.516 Q990.21 305.023 987.467 304.294 Q984.759 303.53 981.981 303.53 Q975.766 303.53 972.328 307.488 Q968.891 311.412 968.891 318.53 Q968.891 325.648 972.328 329.606 Q975.766 333.53 981.981 333.53 Q984.759 333.53 987.467 332.801 Q990.21 332.037 992.919 330.544 L992.919 336.447 Q990.245 337.697 987.363 338.322 Q984.516 338.947 981.287 338.947 Q972.502 338.947 967.328 333.426 Q962.155 327.905 962.155 318.53 Q962.155 309.016 967.363 303.565 Q972.606 298.114 981.703 298.114 Q984.655 298.114 987.467 298.739 Q990.28 299.329 992.919 300.544 Z\" fill=\"#000000\" fill-rule=\"evenodd\" fill-opacity=\"1\" /><path clip-path=\"url(#clip160)\" d=\"M1010.35 288.009 L1010.35 299.051 L1023.51 299.051 L1023.51 304.016 L1010.35 304.016 L1010.35 325.127 Q1010.35 329.884 1011.63 331.238 Q1012.95 332.593 1016.95 332.593 L1023.51 332.593 L1023.51 337.94 L1016.95 337.94 Q1009.55 337.94 1006.74 335.197 Q1003.93 332.419 1003.93 325.127 L1003.93 304.016 L999.238 304.016 L999.238 299.051 L1003.93 299.051 L1003.93 288.009 L1010.35 288.009 Z\" fill=\"#000000\" fill-rule=\"evenodd\" fill-opacity=\"1\" /><path clip-path=\"url(#clip160)\" d=\"M1031.91 299.051 L1038.3 299.051 L1038.3 337.94 L1031.91 337.94 L1031.91 299.051 M1031.91 283.912 L1038.3 283.912 L1038.3 292.002 L1031.91 292.002 L1031.91 283.912 Z\" fill=\"#000000\" fill-rule=\"evenodd\" fill-opacity=\"1\" /><path clip-path=\"url(#clip160)\" d=\"M1066.74 303.53 Q1061.6 303.53 1058.61 307.558 Q1055.63 311.551 1055.63 318.53 Q1055.63 325.509 1058.58 329.537 Q1061.56 333.53 1066.74 333.53 Q1071.84 333.53 1074.83 329.502 Q1077.81 325.475 1077.81 318.53 Q1077.81 311.62 1074.83 307.593 Q1071.84 303.53 1066.74 303.53 M1066.74 298.114 Q1075.07 298.114 1079.83 303.53 Q1084.58 308.947 1084.58 318.53 Q1084.58 328.079 1079.83 333.53 Q1075.07 338.947 1066.74 338.947 Q1058.37 338.947 1053.61 333.53 Q1048.89 328.079 1048.89 318.53 Q1048.89 308.947 1053.61 303.53 Q1058.37 298.114 1066.74 298.114 Z\" fill=\"#000000\" fill-rule=\"evenodd\" fill-opacity=\"1\" /><path clip-path=\"url(#clip160)\" d=\"M1127.5 314.468 L1127.5 337.94 L1121.11 337.94 L1121.11 314.676 Q1121.11 309.155 1118.96 306.412 Q1116.81 303.669 1112.5 303.669 Q1107.33 303.669 1104.34 306.968 Q1101.36 310.266 1101.36 315.961 L1101.36 337.94 L1094.93 337.94 L1094.93 299.051 L1101.36 299.051 L1101.36 305.093 Q1103.65 301.586 1106.74 299.85 Q1109.86 298.114 1113.92 298.114 Q1120.63 298.114 1124.06 302.28 Q1127.5 306.412 1127.5 314.468 Z\" fill=\"#000000\" fill-rule=\"evenodd\" fill-opacity=\"1\" /><path clip-path=\"url(#clip160)\" d=\"M1165.04 300.197 L1165.04 306.238 Q1162.33 304.85 1159.41 304.155 Q1156.49 303.461 1153.37 303.461 Q1148.61 303.461 1146.22 304.919 Q1143.86 306.377 1143.86 309.294 Q1143.86 311.516 1145.56 312.801 Q1147.26 314.051 1152.4 315.197 L1154.58 315.683 Q1161.39 317.141 1164.24 319.815 Q1167.12 322.454 1167.12 327.211 Q1167.12 332.627 1162.81 335.787 Q1158.54 338.947 1151.04 338.947 Q1147.92 338.947 1144.51 338.322 Q1141.15 337.731 1137.4 336.516 L1137.4 329.919 Q1140.94 331.759 1144.38 332.697 Q1147.81 333.599 1151.18 333.599 Q1155.7 333.599 1158.13 332.072 Q1160.56 330.509 1160.56 327.697 Q1160.56 325.093 1158.79 323.704 Q1157.05 322.315 1151.11 321.03 L1148.89 320.509 Q1142.95 319.259 1140.31 316.69 Q1137.67 314.086 1137.67 309.572 Q1137.67 304.086 1141.56 301.1 Q1145.45 298.114 1152.61 298.114 Q1156.15 298.114 1159.27 298.634 Q1162.4 299.155 1165.04 300.197 Z\" fill=\"#000000\" fill-rule=\"evenodd\" fill-opacity=\"1\" /><polyline clip-path=\"url(#clip160)\" style=\"stroke:#0000ff; stroke-linecap:butt; stroke-linejoin:round; stroke-width:6; stroke-opacity:1; fill:none\" points=\"\n",
       "  386.99,389.78 552.044,389.78 \n",
       "  \"/>\n",
       "<path clip-path=\"url(#clip160)\" d=\"M579.553 363.86 L586.567 363.86 L586.567 415.7 L579.553 415.7 L579.553 363.86 Z\" fill=\"#000000\" fill-rule=\"evenodd\" fill-opacity=\"1\" /><path clip-path=\"url(#clip160)\" d=\"M632.573 392.228 L632.573 415.7 L626.184 415.7 L626.184 392.436 Q626.184 386.915 624.032 384.172 Q621.879 381.429 617.573 381.429 Q612.4 381.429 609.414 384.728 Q606.428 388.026 606.428 393.721 L606.428 415.7 L600.004 415.7 L600.004 376.811 L606.428 376.811 L606.428 382.853 Q608.719 379.346 611.809 377.61 Q614.934 375.874 618.997 375.874 Q625.698 375.874 629.136 380.04 Q632.573 384.172 632.573 392.228 Z\" fill=\"#000000\" fill-rule=\"evenodd\" fill-opacity=\"1\" /><path clip-path=\"url(#clip160)\" d=\"M651.636 365.769 L651.636 376.811 L664.795 376.811 L664.795 381.776 L651.636 381.776 L651.636 402.887 Q651.636 407.644 652.92 408.998 Q654.24 410.353 658.233 410.353 L664.795 410.353 L664.795 415.7 L658.233 415.7 Q650.837 415.7 648.025 412.957 Q645.212 410.179 645.212 402.887 L645.212 381.776 L640.525 381.776 L640.525 376.811 L645.212 376.811 L645.212 365.769 L651.636 365.769 Z\" fill=\"#000000\" fill-rule=\"evenodd\" fill-opacity=\"1\" /><path clip-path=\"url(#clip160)\" d=\"M706.462 394.658 L706.462 397.783 L677.087 397.783 Q677.504 404.38 681.045 407.853 Q684.622 411.29 690.976 411.29 Q694.656 411.29 698.094 410.387 Q701.566 409.484 704.969 407.679 L704.969 413.721 Q701.531 415.179 697.92 415.943 Q694.309 416.707 690.594 416.707 Q681.288 416.707 675.837 411.29 Q670.42 405.873 670.42 396.637 Q670.42 387.089 675.559 381.499 Q680.733 375.874 689.483 375.874 Q697.33 375.874 701.878 380.943 Q706.462 385.978 706.462 394.658 M700.073 392.783 Q700.003 387.54 697.122 384.415 Q694.274 381.29 689.552 381.29 Q684.205 381.29 680.976 384.311 Q677.781 387.332 677.295 392.818 L700.073 392.783 Z\" fill=\"#000000\" fill-rule=\"evenodd\" fill-opacity=\"1\" /><path clip-path=\"url(#clip160)\" d=\"M742.538 395.804 Q742.538 388.86 739.656 385.04 Q736.809 381.221 731.635 381.221 Q726.496 381.221 723.614 385.04 Q720.767 388.86 720.767 395.804 Q720.767 402.714 723.614 406.533 Q726.496 410.353 731.635 410.353 Q736.809 410.353 739.656 406.533 Q742.538 402.714 742.538 395.804 M748.927 410.873 Q748.927 420.804 744.517 425.63 Q740.107 430.491 731.01 430.491 Q727.642 430.491 724.656 429.97 Q721.67 429.484 718.858 428.443 L718.858 422.227 Q721.67 423.755 724.413 424.484 Q727.156 425.214 730.003 425.214 Q736.288 425.214 739.413 421.915 Q742.538 418.651 742.538 412.019 L742.538 408.859 Q740.559 412.297 737.469 413.998 Q734.378 415.7 730.073 415.7 Q722.92 415.7 718.545 410.248 Q714.17 404.797 714.17 395.804 Q714.17 386.776 718.545 381.325 Q722.92 375.874 730.073 375.874 Q734.378 375.874 737.469 377.575 Q740.559 379.276 742.538 382.714 L742.538 376.811 L748.927 376.811 L748.927 410.873 Z\" fill=\"#000000\" fill-rule=\"evenodd\" fill-opacity=\"1\" /><path clip-path=\"url(#clip160)\" d=\"M784.621 382.783 Q783.545 382.158 782.26 381.88 Q781.01 381.568 779.482 381.568 Q774.066 381.568 771.149 385.11 Q768.267 388.617 768.267 395.214 L768.267 415.7 L761.843 415.7 L761.843 376.811 L768.267 376.811 L768.267 382.853 Q770.281 379.311 773.51 377.61 Q776.739 375.874 781.357 375.874 Q782.017 375.874 782.816 375.978 Q783.614 376.047 784.586 376.221 L784.621 382.783 Z\" fill=\"#000000\" fill-rule=\"evenodd\" fill-opacity=\"1\" /><path clip-path=\"url(#clip160)\" d=\"M808.996 396.151 Q801.253 396.151 798.267 397.922 Q795.281 399.693 795.281 403.964 Q795.281 407.366 797.503 409.38 Q799.76 411.359 803.614 411.359 Q808.926 411.359 812.121 407.609 Q815.35 403.825 815.35 397.575 L815.35 396.151 L808.996 396.151 M821.739 393.512 L821.739 415.7 L815.35 415.7 L815.35 409.797 Q813.163 413.339 809.899 415.04 Q806.635 416.707 801.913 416.707 Q795.94 416.707 792.399 413.373 Q788.892 410.005 788.892 404.38 Q788.892 397.818 793.267 394.485 Q797.677 391.151 806.392 391.151 L815.35 391.151 L815.35 390.526 Q815.35 386.117 812.433 383.721 Q809.551 381.29 804.308 381.29 Q800.975 381.29 797.815 382.089 Q794.656 382.887 791.739 384.485 L791.739 378.582 Q795.246 377.228 798.545 376.568 Q801.843 375.874 804.968 375.874 Q813.406 375.874 817.572 380.249 Q821.739 384.623 821.739 393.512 Z\" fill=\"#000000\" fill-rule=\"evenodd\" fill-opacity=\"1\" /><path clip-path=\"url(#clip160)\" d=\"M834.899 361.672 L841.287 361.672 L841.287 415.7 L834.899 415.7 L834.899 361.672 Z\" fill=\"#000000\" fill-rule=\"evenodd\" fill-opacity=\"1\" /><polyline clip-path=\"url(#clip160)\" style=\"stroke:#008000; stroke-linecap:butt; stroke-linejoin:round; stroke-width:6; stroke-opacity:1; fill:none\" stroke-dasharray=\"24, 15\" points=\"\n",
       "  386.99,467.54 552.044,467.54 \n",
       "  \"/>\n",
       "<path clip-path=\"url(#clip160)\" d=\"M579.553 441.62 L588.997 441.62 L611.983 484.988 L611.983 441.62 L618.789 441.62 L618.789 493.46 L609.344 493.46 L586.358 450.092 L586.358 493.46 L579.553 493.46 L579.553 441.62 Z\" fill=\"#000000\" fill-rule=\"evenodd\" fill-opacity=\"1\" /><path clip-path=\"url(#clip160)\" d=\"M655.906 461.168 L700.42 461.168 L700.42 467.002 L655.906 467.002 L655.906 461.168 M655.906 475.335 L700.42 475.335 L700.42 481.238 L655.906 481.238 L655.906 475.335 Z\" fill=\"#000000\" fill-rule=\"evenodd\" fill-opacity=\"1\" /><path clip-path=\"url(#clip160)\" d=\"M738.232 441.62 L765.767 441.62 L765.767 447.522 L744.656 447.522 L744.656 460.231 Q746.184 459.71 747.712 459.467 Q749.239 459.189 750.767 459.189 Q759.448 459.189 764.517 463.946 Q769.586 468.703 769.586 476.828 Q769.586 485.196 764.378 489.849 Q759.17 494.467 749.691 494.467 Q746.427 494.467 743.024 493.911 Q739.656 493.356 736.045 492.244 L736.045 485.196 Q739.17 486.897 742.503 487.731 Q745.837 488.564 749.552 488.564 Q755.559 488.564 759.066 485.404 Q762.573 482.244 762.573 476.828 Q762.573 471.411 759.066 468.252 Q755.559 465.092 749.552 465.092 Q746.739 465.092 743.927 465.717 Q741.149 466.342 738.232 467.661 L738.232 441.62 Z\" fill=\"#000000\" fill-rule=\"evenodd\" fill-opacity=\"1\" /><polyline clip-path=\"url(#clip160)\" style=\"stroke:#ffa500; stroke-linecap:butt; stroke-linejoin:round; stroke-width:6; stroke-opacity:1; fill:none\" stroke-dasharray=\"24, 15\" points=\"\n",
       "  386.99,545.3 552.044,545.3 \n",
       "  \"/>\n",
       "<path clip-path=\"url(#clip160)\" d=\"M579.553 519.38 L588.997 519.38 L611.983 562.748 L611.983 519.38 L618.789 519.38 L618.789 571.22 L609.344 571.22 L586.358 527.852 L586.358 571.22 L579.553 571.22 L579.553 519.38 Z\" fill=\"#000000\" fill-rule=\"evenodd\" fill-opacity=\"1\" /><path clip-path=\"url(#clip160)\" d=\"M655.906 538.928 L700.42 538.928 L700.42 544.762 L655.906 544.762 L655.906 538.928 M655.906 553.095 L700.42 553.095 L700.42 558.998 L655.906 558.998 L655.906 553.095 Z\" fill=\"#000000\" fill-rule=\"evenodd\" fill-opacity=\"1\" /><path clip-path=\"url(#clip160)\" d=\"M739.378 565.317 L750.837 565.317 L750.837 525.769 L738.371 528.269 L738.371 521.88 L750.767 519.38 L757.781 519.38 L757.781 565.317 L769.239 565.317 L769.239 571.22 L739.378 571.22 L739.378 565.317 Z\" fill=\"#000000\" fill-rule=\"evenodd\" fill-opacity=\"1\" /><path clip-path=\"url(#clip160)\" d=\"M798.406 523.998 Q792.989 523.998 790.246 529.345 Q787.538 534.657 787.538 545.352 Q787.538 556.011 790.246 561.359 Q792.989 566.671 798.406 566.671 Q803.857 566.671 806.565 561.359 Q809.308 556.011 809.308 545.352 Q809.308 534.657 806.565 529.345 Q803.857 523.998 798.406 523.998 M798.406 518.442 Q807.121 518.442 811.704 525.352 Q816.322 532.227 816.322 545.352 Q816.322 558.442 811.704 565.352 Q807.121 572.227 798.406 572.227 Q789.69 572.227 785.072 565.352 Q780.489 558.442 780.489 545.352 Q780.489 532.227 785.072 525.352 Q789.69 518.442 798.406 518.442 Z\" fill=\"#000000\" fill-rule=\"evenodd\" fill-opacity=\"1\" /><polyline clip-path=\"url(#clip160)\" style=\"stroke:#ff0000; stroke-linecap:butt; stroke-linejoin:round; stroke-width:6; stroke-opacity:1; fill:none\" stroke-dasharray=\"24, 15\" points=\"\n",
       "  386.99,623.06 552.044,623.06 \n",
       "  \"/>\n",
       "<path clip-path=\"url(#clip160)\" d=\"M579.553 597.14 L588.997 597.14 L611.983 640.508 L611.983 597.14 L618.789 597.14 L618.789 648.98 L609.344 648.98 L586.358 605.612 L586.358 648.98 L579.553 648.98 L579.553 597.14 Z\" fill=\"#000000\" fill-rule=\"evenodd\" fill-opacity=\"1\" /><path clip-path=\"url(#clip160)\" d=\"M655.906 616.688 L700.42 616.688 L700.42 622.522 L655.906 622.522 L655.906 616.688 M655.906 630.855 L700.42 630.855 L700.42 636.758 L655.906 636.758 L655.906 630.855 Z\" fill=\"#000000\" fill-rule=\"evenodd\" fill-opacity=\"1\" /><path clip-path=\"url(#clip160)\" d=\"M739.378 643.077 L750.837 643.077 L750.837 603.529 L738.371 606.029 L738.371 599.64 L750.767 597.14 L757.781 597.14 L757.781 643.077 L769.239 643.077 L769.239 648.98 L739.378 648.98 L739.378 643.077 Z\" fill=\"#000000\" fill-rule=\"evenodd\" fill-opacity=\"1\" /><path clip-path=\"url(#clip160)\" d=\"M783.475 597.14 L811.01 597.14 L811.01 603.042 L789.899 603.042 L789.899 615.751 Q791.427 615.23 792.954 614.987 Q794.482 614.709 796.01 614.709 Q804.69 614.709 809.76 619.466 Q814.829 624.223 814.829 632.348 Q814.829 640.716 809.621 645.369 Q804.413 649.987 794.934 649.987 Q791.67 649.987 788.267 649.431 Q784.899 648.876 781.288 647.764 L781.288 640.716 Q784.413 642.417 787.746 643.251 Q791.079 644.084 794.795 644.084 Q800.802 644.084 804.308 640.924 Q807.815 637.764 807.815 632.348 Q807.815 626.931 804.308 623.772 Q800.802 620.612 794.795 620.612 Q791.982 620.612 789.17 621.237 Q786.392 621.862 783.475 623.181 L783.475 597.14 Z\" fill=\"#000000\" fill-rule=\"evenodd\" fill-opacity=\"1\" /><polyline clip-path=\"url(#clip160)\" style=\"stroke:#800080; stroke-linecap:butt; stroke-linejoin:round; stroke-width:6; stroke-opacity:1; fill:none\" stroke-dasharray=\"24, 15\" points=\"\n",
       "  386.99,700.82 552.044,700.82 \n",
       "  \"/>\n",
       "<path clip-path=\"url(#clip160)\" d=\"M579.553 674.9 L588.997 674.9 L611.983 718.268 L611.983 674.9 L618.789 674.9 L618.789 726.74 L609.344 726.74 L586.358 683.372 L586.358 726.74 L579.553 726.74 L579.553 674.9 Z\" fill=\"#000000\" fill-rule=\"evenodd\" fill-opacity=\"1\" /><path clip-path=\"url(#clip160)\" d=\"M655.906 694.448 L700.42 694.448 L700.42 700.282 L655.906 700.282 L655.906 694.448 M655.906 708.615 L700.42 708.615 L700.42 714.518 L655.906 714.518 L655.906 708.615 Z\" fill=\"#000000\" fill-rule=\"evenodd\" fill-opacity=\"1\" /><path clip-path=\"url(#clip160)\" d=\"M744.205 720.837 L768.684 720.837 L768.684 726.74 L735.767 726.74 L735.767 720.837 Q739.76 716.705 746.635 709.761 Q753.545 702.782 755.316 700.768 Q758.684 696.983 760.003 694.379 Q761.357 691.74 761.357 689.205 Q761.357 685.073 758.441 682.469 Q755.559 679.865 750.906 679.865 Q747.607 679.865 743.927 681.011 Q740.281 682.157 736.114 684.483 L736.114 677.4 Q740.35 675.698 744.031 674.83 Q747.712 673.962 750.767 673.962 Q758.823 673.962 763.614 677.99 Q768.406 682.018 768.406 688.754 Q768.406 691.948 767.191 694.83 Q766.01 697.677 762.85 701.566 Q761.982 702.573 757.33 707.4 Q752.677 712.191 744.205 720.837 Z\" fill=\"#000000\" fill-rule=\"evenodd\" fill-opacity=\"1\" /><path clip-path=\"url(#clip160)\" d=\"M798.406 679.518 Q792.989 679.518 790.246 684.865 Q787.538 690.177 787.538 700.872 Q787.538 711.531 790.246 716.879 Q792.989 722.191 798.406 722.191 Q803.857 722.191 806.565 716.879 Q809.308 711.531 809.308 700.872 Q809.308 690.177 806.565 684.865 Q803.857 679.518 798.406 679.518 M798.406 673.962 Q807.121 673.962 811.704 680.872 Q816.322 687.747 816.322 700.872 Q816.322 713.962 811.704 720.872 Q807.121 727.747 798.406 727.747 Q789.69 727.747 785.072 720.872 Q780.489 713.962 780.489 700.872 Q780.489 687.747 785.072 680.872 Q789.69 673.962 798.406 673.962 Z\" fill=\"#000000\" fill-rule=\"evenodd\" fill-opacity=\"1\" /></svg>\n"
      ]
     },
     "metadata": {},
     "output_type": "display_data"
    }
   ],
   "source": [
    "gr()\n",
    "\n",
    "p = plot(mrange, [k₁, k₂], label = [\"SpecialFunctions\" \"Integral\"], ylabel = \"K(m)\", xlabel=\"m\", legend=:topleft,\n",
    "title = \"K(m) for m = (0, 0.9)\", lw = 3, \n",
    "    size = (700,700), legendfontsize = 12, palette=:rainbow)\n",
    "\n",
    "Nrange = [5, 10, 15, 20];\n",
    "for n in Nrange\n",
    "    k₃ = sum_elliptic1(mrange; N = n)\n",
    "    plot!(p, mrange, k₃, label = \"N = $(n)\", lw = 3, ls =:dash)\n",
    "end\n",
    "\n",
    "display(p)"
   ]
  },
  {
   "cell_type": "markdown",
   "id": "985dabba",
   "metadata": {},
   "source": [
    "We can see here that `sum_elliptic1` deviates from `ellipk` and `elliptic1` for $m \\gtrsim 0.6$ at low orders of $N$. As we increase $N$ however, the deviations start to decrease. In particular, for $N = 20$, we have the following absolute deviation (compared to `ellipk(m)`)."
   ]
  },
  {
   "cell_type": "code",
   "execution_count": null,
   "id": "cf245c81",
   "metadata": {},
   "outputs": [],
   "source": []
  }
 ],
 "metadata": {
  "kernelspec": {
   "display_name": "Julia 1.6.3",
   "language": "julia",
   "name": "julia-1.6"
  },
  "language_info": {
   "file_extension": ".jl",
   "mimetype": "application/julia",
   "name": "julia",
   "version": "1.6.3"
  }
 },
 "nbformat": 4,
 "nbformat_minor": 5
}
